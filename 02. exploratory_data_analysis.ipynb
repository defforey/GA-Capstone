{
 "cells": [
  {
   "cell_type": "markdown",
   "metadata": {},
   "source": [
    "## Exploratory data analysis"
   ]
  },
  {
   "cell_type": "markdown",
   "metadata": {},
   "source": [
    "In this notebook, I finalise the dataset, filter reviews so that they are only in English and perform some preliminary visualisation of my text data."
   ]
  },
  {
   "cell_type": "markdown",
   "metadata": {},
   "source": [
    "### Imports and Settings"
   ]
  },
  {
   "cell_type": "code",
   "execution_count": 1,
   "metadata": {},
   "outputs": [],
   "source": [
    "import pandas as pd\n",
    "import matplotlib.pyplot as plt\n",
    "from modules.utils import detect_language, create_final_dataset, generate_wordcloud\n",
    "from modules.utils import plot_word_frequency"
   ]
  },
  {
   "cell_type": "code",
   "execution_count": 2,
   "metadata": {
    "scrolled": false
   },
   "outputs": [],
   "source": [
    "plt.style.use('ggplot')\n",
    "%config InlineBackend.figure_format = 'retina'"
   ]
  },
  {
   "cell_type": "markdown",
   "metadata": {},
   "source": [
    "### Configs"
   ]
  },
  {
   "cell_type": "code",
   "execution_count": 3,
   "metadata": {},
   "outputs": [],
   "source": [
    "LIB_THING_PATH = '/Users/ddefforey1/work/dsi-course/capstone_datasets/lib_thing_dataset_clean.csv'\n",
    "CLEANER_BOOK_INFO_PATH = '/Users/ddefforey1/work/dsi-course/capstone_datasets/cleaner_book_info.csv'\n",
    "CLEAN_BOOK_GENRES_PATH = '/Users/ddefforey1/work/dsi-course/capstone_datasets/clean_book_genres.csv'\n",
    "FINAL_CLEAN_DATASET_PATH = '/Users/ddefforey1/work/dsi-course/capstone_datasets/final_clean_data.csv'"
   ]
  },
  {
   "cell_type": "markdown",
   "metadata": {},
   "source": [
    "### Merging the Datasets"
   ]
  },
  {
   "cell_type": "code",
   "execution_count": 4,
   "metadata": {},
   "outputs": [],
   "source": [
    "lib_thing = pd.read_csv(LIB_THING_PATH,  dtype=object)\n",
    "book_info = pd.read_csv(CLEANER_BOOK_INFO_PATH, dtype=object)\n",
    "book_genres = pd.read_csv(CLEAN_BOOK_GENRES_PATH, dtype=object)"
   ]
  },
  {
   "cell_type": "code",
   "execution_count": null,
   "metadata": {},
   "outputs": [
    {
     "data": {
      "text/html": [
       "<div>\n",
       "<style scoped>\n",
       "    .dataframe tbody tr th:only-of-type {\n",
       "        vertical-align: middle;\n",
       "    }\n",
       "\n",
       "    .dataframe tbody tr th {\n",
       "        vertical-align: top;\n",
       "    }\n",
       "\n",
       "    .dataframe thead th {\n",
       "        text-align: right;\n",
       "    }\n",
       "</style>\n",
       "<table border=\"1\" class=\"dataframe\">\n",
       "  <thead>\n",
       "    <tr style=\"text-align: right;\">\n",
       "      <th></th>\n",
       "      <th>reviews</th>\n",
       "      <th>n_helpful</th>\n",
       "      <th>time</th>\n",
       "      <th>user</th>\n",
       "      <th>id</th>\n",
       "      <th>book_title</th>\n",
       "      <th>author</th>\n",
       "      <th>isbn</th>\n",
       "      <th>book_genres</th>\n",
       "    </tr>\n",
       "  </thead>\n",
       "  <tbody>\n",
       "    <tr>\n",
       "      <th>0</th>\n",
       "      <td>This a great book for young readers to be intr...</td>\n",
       "      <td>0</td>\n",
       "      <td>Nov 7, 2007</td>\n",
       "      <td>van_stef</td>\n",
       "      <td>3206242</td>\n",
       "      <td>The Hobbit (1937)</td>\n",
       "      <td>J. R. R. Tolkien</td>\n",
       "      <td>0618260307</td>\n",
       "      <td>fantasy</td>\n",
       "    </tr>\n",
       "    <tr>\n",
       "      <th>1</th>\n",
       "      <td>Not as great a literary work as Tolkien's famo...</td>\n",
       "      <td>1</td>\n",
       "      <td>Aug 10, 2007</td>\n",
       "      <td>EvilPlatypus</td>\n",
       "      <td>3206242</td>\n",
       "      <td>The Hobbit (1937)</td>\n",
       "      <td>J. R. R. Tolkien</td>\n",
       "      <td>0618260307</td>\n",
       "      <td>fantasy</td>\n",
       "    </tr>\n",
       "    <tr>\n",
       "      <th>2</th>\n",
       "      <td>Fantastic!</td>\n",
       "      <td>0</td>\n",
       "      <td>Aug 23, 2011</td>\n",
       "      <td>elviomedeiros</td>\n",
       "      <td>3206242</td>\n",
       "      <td>The Hobbit (1937)</td>\n",
       "      <td>J. R. R. Tolkien</td>\n",
       "      <td>0618260307</td>\n",
       "      <td>fantasy</td>\n",
       "    </tr>\n",
       "    <tr>\n",
       "      <th>3</th>\n",
       "      <td>Bilbo Baggins becomes an accidental hero in th...</td>\n",
       "      <td>0</td>\n",
       "      <td>Dec 3, 2012</td>\n",
       "      <td>ewyatt</td>\n",
       "      <td>3206242</td>\n",
       "      <td>The Hobbit (1937)</td>\n",
       "      <td>J. R. R. Tolkien</td>\n",
       "      <td>0618260307</td>\n",
       "      <td>fantasy</td>\n",
       "    </tr>\n",
       "    <tr>\n",
       "      <th>4</th>\n",
       "      <td>I found the Hobbit when I was in the 5th grade...</td>\n",
       "      <td>0</td>\n",
       "      <td>May 11, 2007</td>\n",
       "      <td>Nikkles</td>\n",
       "      <td>3206242</td>\n",
       "      <td>The Hobbit (1937)</td>\n",
       "      <td>J. R. R. Tolkien</td>\n",
       "      <td>0618260307</td>\n",
       "      <td>fantasy</td>\n",
       "    </tr>\n",
       "  </tbody>\n",
       "</table>\n",
       "</div>"
      ],
      "text/plain": [
       "                                             reviews n_helpful          time  \\\n",
       "0  This a great book for young readers to be intr...         0   Nov 7, 2007   \n",
       "1  Not as great a literary work as Tolkien's famo...         1  Aug 10, 2007   \n",
       "2                                        Fantastic!          0  Aug 23, 2011   \n",
       "3  Bilbo Baggins becomes an accidental hero in th...         0   Dec 3, 2012   \n",
       "4  I found the Hobbit when I was in the 5th grade...         0  May 11, 2007   \n",
       "\n",
       "            user       id         book_title            author        isbn  \\\n",
       "0       van_stef  3206242  The Hobbit (1937)  J. R. R. Tolkien  0618260307   \n",
       "1   EvilPlatypus  3206242  The Hobbit (1937)  J. R. R. Tolkien  0618260307   \n",
       "2  elviomedeiros  3206242  The Hobbit (1937)  J. R. R. Tolkien  0618260307   \n",
       "3         ewyatt  3206242  The Hobbit (1937)  J. R. R. Tolkien  0618260307   \n",
       "4        Nikkles  3206242  The Hobbit (1937)  J. R. R. Tolkien  0618260307   \n",
       "\n",
       "  book_genres  \n",
       "0     fantasy  \n",
       "1     fantasy  \n",
       "2     fantasy  \n",
       "3     fantasy  \n",
       "4     fantasy  "
      ]
     },
     "execution_count": 5,
     "metadata": {},
     "output_type": "execute_result"
    }
   ],
   "source": [
    "book_info_reviews_genres = create_final_dataset(df1=lib_thing, df2=book_info, df3=book_genres)\n",
    "book_info_reviews_genres.head()"
   ]
  },
  {
   "cell_type": "code",
   "execution_count": null,
   "metadata": {},
   "outputs": [
    {
     "data": {
      "text/plain": [
       "array(['6504869', '10765429', '2451293', '5726341', '3241380', '2982564',\n",
       "       '3248292', '9020710', '6069885', '4113166'], dtype=object)"
      ]
     },
     "execution_count": 6,
     "metadata": {},
     "output_type": "execute_result"
    }
   ],
   "source": [
    "# books with no assigned genres\n",
    "book_info_reviews_genres.id[book_info_reviews_genres.book_genres == ''].unique()"
   ]
  },
  {
   "cell_type": "code",
   "execution_count": null,
   "metadata": {},
   "outputs": [],
   "source": [
    "def remove_books_with_no_genres(df: pd.DataFrame) -> pd.DataFrame:\n",
    "    index_drop = df[df.book_genres == ''].index\n",
    "    return df.drop(index_drop).reset_index(drop=True)"
   ]
  },
  {
   "cell_type": "code",
   "execution_count": null,
   "metadata": {},
   "outputs": [],
   "source": [
    "book_info_reviews_genres = remove_books_with_no_genres(book_info_reviews_genres)"
   ]
  },
  {
   "cell_type": "code",
   "execution_count": null,
   "metadata": {
    "scrolled": true
   },
   "outputs": [
    {
     "name": "stdout",
     "output_type": "stream",
     "text": [
      "There are 295162 reviews and 9 features in this dataset. \n",
      "\n",
      "There are 7 book genres in this dataset such as fantasy, fiction, science-fiction, mystery, non-fiction... \n",
      "\n"
     ]
    }
   ],
   "source": [
    "print(\"There are {} reviews and {} features in this dataset. \\n\".format(book_info_reviews_genres.shape[0],book_info_reviews_genres.shape[1]))\n",
    "print(\"There are {} book genres in this dataset such as {}... \\n\".format(len(book_info_reviews_genres.book_genres.unique()),\n",
    "                                                                           \", \".join(book_info_reviews_genres.book_genres.unique()[0:5])))"
   ]
  },
  {
   "cell_type": "markdown",
   "metadata": {},
   "source": [
    "### Identifying and removing non-English reviews"
   ]
  },
  {
   "cell_type": "code",
   "execution_count": null,
   "metadata": {},
   "outputs": [],
   "source": [
    "book_info_reviews_genres['language'] = book_info_reviews_genres.reviews.apply(lambda x: detect_language(x))"
   ]
  },
  {
   "cell_type": "code",
   "execution_count": null,
   "metadata": {
    "scrolled": true
   },
   "outputs": [],
   "source": [
    "book_info_reviews_genres.head()"
   ]
  },
  {
   "cell_type": "code",
   "execution_count": null,
   "metadata": {
    "scrolled": true
   },
   "outputs": [],
   "source": [
    "# checking which reviews were labelled as other than English\n",
    "book_info_reviews_genres[book_info_reviews_genres.language != 'en'].head()"
   ]
  },
  {
   "cell_type": "code",
   "execution_count": null,
   "metadata": {},
   "outputs": [],
   "source": [
    "def remove_non_english_reviews(df: pd.DataFrame) -> pd.DataFrame:\n",
    "    index_drop = df[df.language != 'en'].index\n",
    "    return df.drop(index_drop).reset_index(drop=True)"
   ]
  },
  {
   "cell_type": "code",
   "execution_count": null,
   "metadata": {},
   "outputs": [],
   "source": [
    "book_info_reviews_genres = remove_non_english_reviews(book_info_reviews_genres)"
   ]
  },
  {
   "cell_type": "code",
   "execution_count": null,
   "metadata": {},
   "outputs": [],
   "source": [
    "# save copy of final dataset\n",
    "book_info_reviews_genres.to_csv(FINAL_CLEAN_DATASET_PATH, index=False)"
   ]
  },
  {
   "cell_type": "markdown",
   "metadata": {},
   "source": [
    "### Visualising the Data"
   ]
  },
  {
   "cell_type": "markdown",
   "metadata": {},
   "source": [
    "Here, I use three approaches to visualise my data. First, I use a bar chart to illustrate the number of reviews for each book genre. Then, I use individual wordclouds for a few examples of book genres to get an overview of words commonly found in book reviews. Then, I generate bar plots to visualise counts for individual words following cleaning, tokenisation and lemmatisation."
   ]
  },
  {
   "cell_type": "markdown",
   "metadata": {},
   "source": [
    "#### Bar chart of review counts per book genre"
   ]
  },
  {
   "cell_type": "code",
   "execution_count": null,
   "metadata": {},
   "outputs": [],
   "source": [
    "# plotting the number of reviews for each book genre \n",
    "ax = book_info_reviews_genres.book_genres.value_counts().plot(kind='bar', figsize=(7,5), edgecolor='black', lw=1, alpha = 0.5, color='deeppink')\n",
    "ax.set_xlabel('Book Genres')\n",
    "ax.set_ylabel('Number of reviews')\n",
    "_ = ax.set_title('Number of reviews per book genre')"
   ]
  },
  {
   "cell_type": "markdown",
   "metadata": {},
   "source": [
    "The majority of book reviews in this dataset are reviews of fiction books (general fiction, fantasy, science-fiction, mystery, thriller and romance), which means that non-fiction book reviews will be underrepresented in my topic model. This may have an impact on the performance of my LDA model."
   ]
  },
  {
   "cell_type": "markdown",
   "metadata": {},
   "source": [
    "#### Wordclouds"
   ]
  },
  {
   "cell_type": "code",
   "execution_count": null,
   "metadata": {},
   "outputs": [],
   "source": [
    "generate_wordcloud(df=book_info_reviews_genres, book_genre=\"fantasy\")"
   ]
  },
  {
   "cell_type": "code",
   "execution_count": null,
   "metadata": {},
   "outputs": [],
   "source": [
    "generate_wordcloud(df=book_info_reviews_genres, book_genre='mystery')"
   ]
  },
  {
   "cell_type": "code",
   "execution_count": null,
   "metadata": {},
   "outputs": [],
   "source": [
    "generate_wordcloud(df=book_info_reviews_genres, book_genre='romance')"
   ]
  },
  {
   "cell_type": "markdown",
   "metadata": {},
   "source": [
    "The wordclouds show that even though some words are found across book reviews of different genres (e.g. \"story\", \"character\"), there are some differences. This is encouraging and I am curious to see if some of the topics my model will identify can be linked to book genres. Next, I will plot word counts on bar plots to get a more quantitative picture of how book review content changes with book genres."
   ]
  },
  {
   "cell_type": "markdown",
   "metadata": {},
   "source": [
    "#### Bar plots of word counts"
   ]
  },
  {
   "cell_type": "code",
   "execution_count": null,
   "metadata": {},
   "outputs": [],
   "source": [
    "fantasy_reviews = book_info_reviews_genres.reviews[book_info_reviews_genres.book_genres == 'fantasy']\n",
    "fiction_reviews = book_info_reviews_genres.reviews[book_info_reviews_genres.book_genres == 'fiction']\n",
    "nonfiction_reviews = book_info_reviews_genres.reviews[book_info_reviews_genres.book_genres == 'non-fiction']\n",
    "scifi_reviews = book_info_reviews_genres.reviews[book_info_reviews_genres.book_genres == 'science-fiction']\n",
    "mystery_reviews = book_info_reviews_genres.reviews[book_info_reviews_genres.book_genres == 'mystery']\n",
    "thriller_reviews = book_info_reviews_genres.reviews[book_info_reviews_genres.book_genres == 'thriller']\n",
    "romance_reviews = book_info_reviews_genres.reviews[book_info_reviews_genres.book_genres == 'romance']"
   ]
  },
  {
   "cell_type": "markdown",
   "metadata": {},
   "source": [
    "<font color=darkgreen>\n",
    "    <b><u> Plot of the word counts for fantasy reviews</b></u>\n",
    "    </font>"
   ]
  },
  {
   "cell_type": "code",
   "execution_count": null,
   "metadata": {},
   "outputs": [],
   "source": [
    "plot_word_frequency(fantasy_reviews)"
   ]
  },
  {
   "cell_type": "markdown",
   "metadata": {},
   "source": [
    "<font color=darkgreen>\n",
    "    <b><u> Plot of the word counts for mystery reviews</b></u>\n",
    "    </font>"
   ]
  },
  {
   "cell_type": "code",
   "execution_count": null,
   "metadata": {},
   "outputs": [],
   "source": [
    "plot_word_frequency(mystery_reviews)"
   ]
  },
  {
   "cell_type": "markdown",
   "metadata": {},
   "source": [
    "<font color=darkgreen>\n",
    "    <b><u> Plot of the word counts for romance reviews</b></u>\n",
    "    </font>"
   ]
  },
  {
   "cell_type": "code",
   "execution_count": null,
   "metadata": {
    "scrolled": true
   },
   "outputs": [],
   "source": [
    "plot_word_frequency(romance_reviews)"
   ]
  },
  {
   "cell_type": "markdown",
   "metadata": {},
   "source": [
    "As with the wordclouds, the bar plots reveal some common words across all genres, including \"book\", \"story\", \"character\", \"time\" and \"good\". They also show that some words are more common in some genres than others (e.g. \"mystery\" or \"plot\" for thriller and mystery books), which suggests that a topic model of all reviews may yield distinct topics for the different genres. After assessing these plots, and taking into account that some frequent words are shared across all genres, I think that having one topic model with all reviews would be more effective than having a topic model for each genre."
   ]
  }
 ],
 "metadata": {
  "kernelspec": {
   "display_name": "Python 3",
   "language": "python",
   "name": "python3"
  },
  "language_info": {
   "codemirror_mode": {
    "name": "ipython",
    "version": 3
   },
   "file_extension": ".py",
   "mimetype": "text/x-python",
   "name": "python",
   "nbconvert_exporter": "python",
   "pygments_lexer": "ipython3",
   "version": "3.6.8"
  }
 },
 "nbformat": 4,
 "nbformat_minor": 2
}
