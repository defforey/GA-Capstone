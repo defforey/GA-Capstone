{
 "cells": [
  {
   "cell_type": "markdown",
   "metadata": {},
   "source": [
    "<img src=\"Resources/small_GA_logo.png\" style=\"float: left; margin: 20px\">\n",
    "\n",
    "#  Book Reviews Capstone Project: Importing the First Dataset\n",
    "\n",
    "\n",
    "*Delphine Defforey*\n",
    "\n",
    "___\n"
   ]
  },
  {
   "cell_type": "markdown",
   "metadata": {},
   "source": [
    "<font color=navy>\n",
    "    The purpose of this first notebook is to read the LibraryThing dataset downloaded from Prof. McAuley's <a href=\"https://cseweb.ucsd.edu/~jmcauley/datasets.html#social_data\" target=\"_blank\">website</a>, import it and select a subsample of 5000 books that will be used for the rest of the project.\n",
    "    </font>"
   ]
  },
  {
   "cell_type": "markdown",
   "metadata": {},
   "source": [
    "### Imports and Settings"
   ]
  },
  {
   "cell_type": "code",
   "execution_count": 1,
   "metadata": {},
   "outputs": [],
   "source": [
    "import re\n",
    "import pandas as pd\n",
    "import matplotlib.pyplot as plt\n",
    "import seaborn as sns\n",
    "import json"
   ]
  },
  {
   "cell_type": "code",
   "execution_count": 2,
   "metadata": {},
   "outputs": [],
   "source": [
    "plt.style.use('ggplot')\n",
    "sns.set(font_scale=1)\n",
    "%matplotlib inline\n",
    "%config InlineBackend.figure_format = 'retina'"
   ]
  },
  {
   "cell_type": "markdown",
   "metadata": {},
   "source": [
    "### Configs"
   ]
  },
  {
   "cell_type": "code",
   "execution_count": 3,
   "metadata": {},
   "outputs": [],
   "source": [
    "LIBRARY_THING_REVIEWS_PATH = '/Users/ddefforey1/work/dsi-course/capstone_datasets/raw_lthing_data/reviews.json'\n",
    "TOP_5K_MOST_REVIEWED_BOOKS_PATH = '/Users/ddefforey1/dsi-course/work/capstone_datasets/top_5K_books.csv'\n",
    "LIB_THING_PATH = '/Users/ddefforey1/work/dsi-course/capstone_datasets/lib_thing_dataset_clean.csv'"
   ]
  },
  {
   "cell_type": "markdown",
   "metadata": {},
   "source": [
    "### Loading and Cleaning the LibraryThing Dataset"
   ]
  },
  {
   "cell_type": "markdown",
   "metadata": {},
   "source": [
    "<font color=navy>\n",
    "    The LibraryThing dataset was stored in a pseudo-json format. Instead of using double-quote and properly escaping double quotes within the reviews, the people who generated this dataset used single quotes, escaped some of the single quotes in the text but not the double quotes. That made it impossible to use conventional techniques such as pd.read_json or json.loads() to read the file. To circumvent this issue, they suggested that users rely on the python eval() method, which parses text and runs python code within it:\n",
    "    </font>"
   ]
  },
  {
   "cell_type": "markdown",
   "metadata": {},
   "source": [
    "```python\n",
    "def parse(path):\n",
    "  g = gzip.open(path, 'r')\n",
    "  for l in g:\n",
    "    yield eval(l)\n",
    "```"
   ]
  },
  {
   "cell_type": "markdown",
   "metadata": {},
   "source": [
    "<font color=navy>\n",
    "    I chose not to use such an approach because, while it may be that this dataset is a trustworthy source of data, running such a command would leave my machine vulnerable to potential malware embedded within the file. Instead, I preferred to use a series of regular expressions to convert the lines of pseudo-json entries in the file to a correct json format, then read it. Given how messy this dataset was, it was not possible to successfully capture the entirety of the information with regex. However, 89.8% of the data was successfully extracted, which gave me plenty of book reviews to work with for this project.\n",
    "    </font>"
   ]
  },
  {
   "cell_type": "code",
   "execution_count": 4,
   "metadata": {},
   "outputs": [],
   "source": [
    "with open(LIBRARY_THING_REVIEWS_PATH) as f:\n",
    "    data = []\n",
    "    problems = 0\n",
    "    for line_num, line in enumerate(f):\n",
    "        try:\n",
    "            # replace ' around keys/values with \"\n",
    "            cleaned_line = re.sub(r\"(?<={|\\s)'|'(?=,|:|})\", '\"', line)\n",
    "            # replace all \" in text with \\\"\n",
    "            cleaned_line = re.sub(r'(?<!{)(?<!,\\s|:\\s)\\\"(?!,|:|})', '\\\\\\\"', cleaned_line)\n",
    "            # replace all \\' with '\n",
    "            cleaned_line = cleaned_line.replace(\"\\\\'\", \"'\")\n",
    "            \n",
    "            # removes rows where comments were incorrectly parsed as a key \n",
    "            data_dict = json.loads(cleaned_line)\n",
    "            for k in data_dict.keys():\n",
    "                assert len(k) < 20\n",
    "            \n",
    "            data.append(data_dict)\n",
    "        except Exception as e:\n",
    "            problems += 1"
   ]
  },
  {
   "cell_type": "code",
   "execution_count": 5,
   "metadata": {},
   "outputs": [
    {
     "data": {
      "text/plain": [
       "'Problems: 158617/1548453 (10.2%)'"
      ]
     },
     "execution_count": 5,
     "metadata": {},
     "output_type": "execute_result"
    }
   ],
   "source": [
    "# assessing the percentage of data that could not be read\n",
    "f'Problems: {problems}/{len(data)} ({100 * problems/len(data):3.1f}%)'"
   ]
  },
  {
   "cell_type": "code",
   "execution_count": 6,
   "metadata": {},
   "outputs": [
    {
     "data": {
      "text/html": [
       "<div>\n",
       "<style scoped>\n",
       "    .dataframe tbody tr th:only-of-type {\n",
       "        vertical-align: middle;\n",
       "    }\n",
       "\n",
       "    .dataframe tbody tr th {\n",
       "        vertical-align: top;\n",
       "    }\n",
       "\n",
       "    .dataframe thead th {\n",
       "        text-align: right;\n",
       "    }\n",
       "</style>\n",
       "<table border=\"1\" class=\"dataframe\">\n",
       "  <thead>\n",
       "    <tr style=\"text-align: right;\">\n",
       "      <th></th>\n",
       "      <th>comment</th>\n",
       "      <th>flags</th>\n",
       "      <th>nhelpful</th>\n",
       "      <th>stars</th>\n",
       "      <th>time</th>\n",
       "      <th>unixtime</th>\n",
       "      <th>user</th>\n",
       "      <th>work</th>\n",
       "    </tr>\n",
       "  </thead>\n",
       "  <tbody>\n",
       "    <tr>\n",
       "      <th>0</th>\n",
       "      <td>This a great book for young readers to be intr...</td>\n",
       "      <td>[]</td>\n",
       "      <td>0</td>\n",
       "      <td>5.0</td>\n",
       "      <td>Nov 7, 2007</td>\n",
       "      <td>1194393600</td>\n",
       "      <td>van_stef</td>\n",
       "      <td>3206242</td>\n",
       "    </tr>\n",
       "    <tr>\n",
       "      <th>1</th>\n",
       "      <td>Help Wanted: Tales of On The Job Terror from E...</td>\n",
       "      <td>[]</td>\n",
       "      <td>0</td>\n",
       "      <td>5.0</td>\n",
       "      <td>Apr 7, 2012</td>\n",
       "      <td>1333756800</td>\n",
       "      <td>dwatson2</td>\n",
       "      <td>12198649</td>\n",
       "    </tr>\n",
       "    <tr>\n",
       "      <th>2</th>\n",
       "      <td>Magoon, K. (2012). Fire in the streets. New Yo...</td>\n",
       "      <td>[]</td>\n",
       "      <td>0</td>\n",
       "      <td>NaN</td>\n",
       "      <td>Nov 15, 2012</td>\n",
       "      <td>1352937600</td>\n",
       "      <td>edspicer</td>\n",
       "      <td>12533765</td>\n",
       "    </tr>\n",
       "    <tr>\n",
       "      <th>3</th>\n",
       "      <td>Well, I definitely liked this book better than...</td>\n",
       "      <td>[]</td>\n",
       "      <td>0</td>\n",
       "      <td>4.0</td>\n",
       "      <td>Mar 29, 2013</td>\n",
       "      <td>1364515200</td>\n",
       "      <td>amdrane2</td>\n",
       "      <td>12981302</td>\n",
       "    </tr>\n",
       "    <tr>\n",
       "      <th>4</th>\n",
       "      <td>It's a nice science-fiction thriller with some...</td>\n",
       "      <td>[]</td>\n",
       "      <td>0</td>\n",
       "      <td>3.0</td>\n",
       "      <td>Apr 11, 2010</td>\n",
       "      <td>1270944000</td>\n",
       "      <td>Lila_Gustavus</td>\n",
       "      <td>5231009</td>\n",
       "    </tr>\n",
       "  </tbody>\n",
       "</table>\n",
       "</div>"
      ],
      "text/plain": [
       "                                             comment flags  nhelpful  stars  \\\n",
       "0  This a great book for young readers to be intr...    []         0    5.0   \n",
       "1  Help Wanted: Tales of On The Job Terror from E...    []         0    5.0   \n",
       "2  Magoon, K. (2012). Fire in the streets. New Yo...    []         0    NaN   \n",
       "3  Well, I definitely liked this book better than...    []         0    4.0   \n",
       "4  It's a nice science-fiction thriller with some...    []         0    3.0   \n",
       "\n",
       "           time    unixtime           user      work  \n",
       "0   Nov 7, 2007  1194393600       van_stef   3206242  \n",
       "1   Apr 7, 2012  1333756800       dwatson2  12198649  \n",
       "2  Nov 15, 2012  1352937600       edspicer  12533765  \n",
       "3  Mar 29, 2013  1364515200       amdrane2  12981302  \n",
       "4  Apr 11, 2010  1270944000  Lila_Gustavus   5231009  "
      ]
     },
     "execution_count": 6,
     "metadata": {},
     "output_type": "execute_result"
    }
   ],
   "source": [
    "lib_thing = pd.DataFrame(data)\n",
    "lib_thing.head()"
   ]
  },
  {
   "cell_type": "code",
   "execution_count": 7,
   "metadata": {
    "scrolled": true
   },
   "outputs": [
    {
     "data": {
      "text/plain": [
       "0    1548453\n",
       "Name: flags, dtype: int64"
      ]
     },
     "execution_count": 7,
     "metadata": {},
     "output_type": "execute_result"
    }
   ],
   "source": [
    "# check if there's anything in the flags column\n",
    "lib_thing.flags.apply(len).value_counts()"
   ]
  },
  {
   "cell_type": "code",
   "execution_count": 8,
   "metadata": {},
   "outputs": [],
   "source": [
    "# removing variables I won't be using for my analysis\n",
    "flags = lib_thing.pop('flags')\n",
    "unix_time = lib_thing.pop('unixtime')"
   ]
  },
  {
   "cell_type": "code",
   "execution_count": 9,
   "metadata": {},
   "outputs": [],
   "source": [
    "# renaming columns\n",
    "lib_thing = lib_thing.rename(columns={\"comment\": \"reviews\", \"nhelpful\": \"n_helpful\", \"work\": \"id\"})"
   ]
  },
  {
   "cell_type": "code",
   "execution_count": 10,
   "metadata": {},
   "outputs": [
    {
     "name": "stdout",
     "output_type": "stream",
     "text": [
      "<class 'pandas.core.frame.DataFrame'>\n",
      "RangeIndex: 1548453 entries, 0 to 1548452\n",
      "Data columns (total 6 columns):\n",
      "reviews      1548453 non-null object\n",
      "n_helpful    1548453 non-null int64\n",
      "stars        1288241 non-null float64\n",
      "time         1548453 non-null object\n",
      "user         1548453 non-null object\n",
      "id           1548453 non-null object\n",
      "dtypes: float64(1), int64(1), object(4)\n",
      "memory usage: 70.9+ MB\n"
     ]
    }
   ],
   "source": [
    "# overview of the dataframe\n",
    "lib_thing.info()"
   ]
  },
  {
   "cell_type": "markdown",
   "metadata": {},
   "source": [
    "<font color=navy>\n",
    "    There are 260,212 ratings missing, but these reviews are still associated with text reviews, which I am primarily interested in. When calculating mean ratings for each book, these missing ratings can be dropped. In the meantime, I will keep them while I focus on the text analysis.\n",
    "    </font>"
   ]
  },
  {
   "cell_type": "code",
   "execution_count": 11,
   "metadata": {},
   "outputs": [
    {
     "data": {
      "text/html": [
       "<div>\n",
       "<style scoped>\n",
       "    .dataframe tbody tr th:only-of-type {\n",
       "        vertical-align: middle;\n",
       "    }\n",
       "\n",
       "    .dataframe tbody tr th {\n",
       "        vertical-align: top;\n",
       "    }\n",
       "\n",
       "    .dataframe thead th {\n",
       "        text-align: right;\n",
       "    }\n",
       "</style>\n",
       "<table border=\"1\" class=\"dataframe\">\n",
       "  <thead>\n",
       "    <tr style=\"text-align: right;\">\n",
       "      <th></th>\n",
       "      <th>reviews</th>\n",
       "      <th>n_helpful</th>\n",
       "      <th>stars</th>\n",
       "      <th>time</th>\n",
       "      <th>user</th>\n",
       "      <th>id</th>\n",
       "    </tr>\n",
       "  </thead>\n",
       "  <tbody>\n",
       "    <tr>\n",
       "      <th>490</th>\n",
       "      <td>*The Hunger Games is about a girl, Katniss Eve...</td>\n",
       "      <td>0</td>\n",
       "      <td>NaN</td>\n",
       "      <td>Feb 7, 2012</td>\n",
       "      <td>SarahRamon1416</td>\n",
       "      <td>4979986</td>\n",
       "    </tr>\n",
       "    <tr>\n",
       "      <th>1157</th>\n",
       "      <td>i love this book for days i just couldn't put ...</td>\n",
       "      <td>1</td>\n",
       "      <td>5.0</td>\n",
       "      <td>Mar 31, 2011</td>\n",
       "      <td>GodOcookies</td>\n",
       "      <td>4979986</td>\n",
       "    </tr>\n",
       "    <tr>\n",
       "      <th>1312</th>\n",
       "      <td>Brianna Gratien 11-4-11\\nEnglish- Period: 1 Th...</td>\n",
       "      <td>0</td>\n",
       "      <td>NaN</td>\n",
       "      <td>Nov 15, 2011</td>\n",
       "      <td>BriannaGratien</td>\n",
       "      <td>4979986</td>\n",
       "    </tr>\n",
       "    <tr>\n",
       "      <th>3249</th>\n",
       "      <td>disturbing, kids killing kids as a game not my...</td>\n",
       "      <td>0</td>\n",
       "      <td>2.0</td>\n",
       "      <td>Jun 6, 2012</td>\n",
       "      <td>eileenmary</td>\n",
       "      <td>4979986</td>\n",
       "    </tr>\n",
       "    <tr>\n",
       "      <th>3288</th>\n",
       "      <td>Katniss Everdeen is a survivor; she has been k...</td>\n",
       "      <td>0</td>\n",
       "      <td>5.0</td>\n",
       "      <td>Oct 6, 2011</td>\n",
       "      <td>Book_Mountain</td>\n",
       "      <td>4979986</td>\n",
       "    </tr>\n",
       "  </tbody>\n",
       "</table>\n",
       "</div>"
      ],
      "text/plain": [
       "                                                reviews  n_helpful  stars  \\\n",
       "490   *The Hunger Games is about a girl, Katniss Eve...          0    NaN   \n",
       "1157  i love this book for days i just couldn't put ...          1    5.0   \n",
       "1312  Brianna Gratien 11-4-11\\nEnglish- Period: 1 Th...          0    NaN   \n",
       "3249  disturbing, kids killing kids as a game not my...          0    2.0   \n",
       "3288  Katniss Everdeen is a survivor; she has been k...          0    5.0   \n",
       "\n",
       "              time            user       id  \n",
       "490    Feb 7, 2012  SarahRamon1416  4979986  \n",
       "1157  Mar 31, 2011     GodOcookies  4979986  \n",
       "1312  Nov 15, 2011  BriannaGratien  4979986  \n",
       "3249   Jun 6, 2012      eileenmary  4979986  \n",
       "3288   Oct 6, 2011   Book_Mountain  4979986  "
      ]
     },
     "execution_count": 11,
     "metadata": {},
     "output_type": "execute_result"
    }
   ],
   "source": [
    "# looking at a specific book\n",
    "lib_thing[lib_thing.id == '4979986'].head()"
   ]
  },
  {
   "cell_type": "code",
   "execution_count": 12,
   "metadata": {},
   "outputs": [
    {
     "data": {
      "text/plain": [
       "(2255, 6)"
      ]
     },
     "execution_count": 12,
     "metadata": {},
     "output_type": "execute_result"
    }
   ],
   "source": [
    "# looking at the number of reviews for that book\n",
    "lib_thing[lib_thing.id == '4979986'].shape"
   ]
  },
  {
   "cell_type": "code",
   "execution_count": 13,
   "metadata": {},
   "outputs": [
    {
     "data": {
      "image/png": "[encoded data removed]",
      "text/plain": [
       "<Figure size 432x288 with 1 Axes>"
      ]
     },
     "metadata": {
      "image/png": {
       "height": 269,
       "width": 394
      },
      "needs_background": "light"
     },
     "output_type": "display_data"
    }
   ],
   "source": [
    "#looking at the distribution of helpful reviews\n",
    "ax = lib_thing.n_helpful.hist(bins=50, edgecolor='black', lw=1, alpha = 0.5, color='seagreen')\n",
    "ax.set_yscale('log')\n",
    "ax.set_ylabel('Frequency')\n",
    "_ = ax.set_xlabel('Number of helpful reviews')"
   ]
  },
  {
   "cell_type": "code",
   "execution_count": 14,
   "metadata": {},
   "outputs": [
    {
     "data": {
      "text/plain": [
       "array(['Kali, Syd and Zahra are three girls who meet in a group therapy class for teens whose parents are splitting up. They later discover that all three of them are dating the same boy, and they plot their revenge on Erik-Rico-Rick! After their revenge, and a fine moment it is, they realize that they are quite good together, and they decide to form a company called Love Inc. Their mission is to bring people together in happiness until a relationship runs its course then help them find closure. In other words, they help match people up, they run surveillance on them to make sure their not cheating on each other, and then, if necessary, they help them break up. Love, Inc. is quite an entertaining read, and those looking for a light-hearted read will be pleased with this one. '],\n",
       "      dtype=object)"
      ]
     },
     "execution_count": 14,
     "metadata": {},
     "output_type": "execute_result"
    }
   ],
   "source": [
    "# looking at an example of a review\n",
    "lib_thing.reviews.sample().values"
   ]
  },
  {
   "cell_type": "code",
   "execution_count": 15,
   "metadata": {},
   "outputs": [
    {
     "data": {
      "text/plain": [
       "462952"
      ]
     },
     "execution_count": 15,
     "metadata": {},
     "output_type": "execute_result"
    }
   ],
   "source": [
    "# inspecting the number of unique books\n",
    "lib_thing.id.nunique()"
   ]
  },
  {
   "cell_type": "code",
   "execution_count": 16,
   "metadata": {},
   "outputs": [
    {
     "data": {
      "image/png": "[encoded data removed]",
      "text/plain": [
       "<Figure size 432x288 with 1 Axes>"
      ]
     },
     "metadata": {
      "image/png": {
       "height": 302,
       "width": 401
      },
      "needs_background": "light"
     },
     "output_type": "display_data"
    }
   ],
   "source": [
    "# visualizing the 20 books with the most reviews\n",
    "ax = lib_thing.id.value_counts().head(20).plot(kind='bar', edgecolor='black', lw=1, alpha = 0.5, color='dodgerblue')\n",
    "ax.set_ylabel('Number of reviews')\n",
    "_ = ax.set_xlabel('Book IDs')"
   ]
  },
  {
   "cell_type": "code",
   "execution_count": 17,
   "metadata": {},
   "outputs": [],
   "source": [
    "# generating a dataset with five thousand book IDs organized by decreasing number of reviews\n",
    "top_5K_books = (\n",
    "    lib_thing\n",
    "    .id\n",
    "    .value_counts()\n",
    "    .head(5000)\n",
    "    .rename('n_comments')\n",
    "    .reset_index()\n",
    "    .rename(columns={'index': 'book_id'})\n",
    ")"
   ]
  },
  {
   "cell_type": "code",
   "execution_count": 18,
   "metadata": {
    "scrolled": true
   },
   "outputs": [],
   "source": [
    "# exporting this dataframe as a csv\n",
    "# this will be used in my second notebook\n",
    "top_5K_books.to_csv(TOP_5K_MOST_REVIEWED_BOOKS_PATH, index=False)"
   ]
  },
  {
   "cell_type": "code",
   "execution_count": 19,
   "metadata": {},
   "outputs": [],
   "source": [
    "lib_thing.to_csv(LIB_THING_PATH, index=False)"
   ]
  }
 ],
 "metadata": {
  "kernelspec": {
   "display_name": "Python 3",
   "language": "python",
   "name": "python3"
  },
  "language_info": {
   "codemirror_mode": {
    "name": "ipython",
    "version": 3
   },
   "file_extension": ".py",
   "mimetype": "text/x-python",
   "name": "python",
   "nbconvert_exporter": "python",
   "pygments_lexer": "ipython3",
   "version": "3.6.8"
  }
 },
 "nbformat": 4,
 "nbformat_minor": 2
}
