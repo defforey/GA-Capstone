{
 "cells": [
  {
   "cell_type": "markdown",
   "metadata": {},
   "source": [
    "<img src=\"Resources/small_GA_logo.png\" style=\"float: left; margin: 20px\">\n",
    "\n",
    "#  Book Reviews Capstone Project: Goodreads API\n",
    "\n",
    "\n",
    "*Delphine Defforey*\n",
    "\n",
    "___\n"
   ]
  },
  {
   "cell_type": "markdown",
   "metadata": {},
   "source": [
    "<font color=navy>\n",
    "   In this notebook, I use the ISBNs collected from the LibraryThing website to collect Goodreads IDs for each book using the BetterReads package, which provides a Python interface for the Goodreads API. I then use those IDs to do a get request to collect \"Goodreads shelves\" for each book. These shelves include both genre information and categories such as \"to-read\", \"read\", \"currently reading\", which are not useful for the purpose of this project. I then apply a series of filters to remove this extraneous information, and use the counts data provided by Goodreads to identify the main genres each book corresponds to. The threshold I have set for a given genre to be considered a \"main\" genre is 25% of the total number of counts. This is an arbitrary threshold I have set, and it is important to note that my approach for assigning genres to each book is a potential limitation of this work as it involved substantial simplifications. Non-fiction books in particular were all assigned to one category, as I chose to focus on fiction books. The latter fall into 6 genres: fantasy, science-fiction, mystery, thriller, romance and general fiction (for those that did not clearly fit into the previous genres). \n",
    "    </font>"
   ]
  },
  {
   "cell_type": "markdown",
   "metadata": {},
   "source": [
    "### Imports and Settings"
   ]
  },
  {
   "cell_type": "code",
   "execution_count": 4,
   "metadata": {},
   "outputs": [],
   "source": [
    "import pandas as pd\n",
    "import numpy as np\n",
    "import matplotlib.pyplot as plt\n",
    "import seaborn as sns\n",
    "import time\n",
    "from requests import get\n",
    "from betterreads import client\n",
    "from tqdm import tqdm_notebook"
   ]
  },
  {
   "cell_type": "markdown",
   "metadata": {},
   "source": [
    "### Configs"
   ]
  },
  {
   "cell_type": "code",
   "execution_count": 7,
   "metadata": {},
   "outputs": [],
   "source": [
    "CLEANER_BOOK_INFO_PATH = '/Users/ddefforey1/work/dsi-course/capstone_datasets/cleaner_book_info.csv'\n",
    "GOODREADS_IDS_PATH = '/Users/ddefforey1/work/dsi-course/capstone_datasets/goodreads_ids.csv'\n",
    "RAW_GOODREADS_IDS_GENRES_PATH = '/Users/ddefforey1/work/dsi-course/capstone_datasets/raw_goodreads_ids_genres.csv'\n",
    "CLEAN_BOOK_GENRES_PATH = '/Users/ddefforey1/work/dsi-course/capstone_datasets/clean_book_genres.csv'"
   ]
  },
  {
   "cell_type": "markdown",
   "metadata": {},
   "source": [
    "### Using the Goodreads API to get Goodreads Book Identifiers"
   ]
  },
  {
   "cell_type": "markdown",
   "metadata": {},
   "source": [
    "<font color=navy>\n",
    "Loading the dataset with the book titles, author names and ISBNs. Here it is important to set the data type to object to avoid the leading zeros in the isbn column from being dropped\n",
    "</font>"
   ]
  },
  {
   "cell_type": "code",
   "execution_count": 10,
   "metadata": {},
   "outputs": [
    {
     "data": {
      "text/html": [
       "<div>\n",
       "<style scoped>\n",
       "    .dataframe tbody tr th:only-of-type {\n",
       "        vertical-align: middle;\n",
       "    }\n",
       "\n",
       "    .dataframe tbody tr th {\n",
       "        vertical-align: top;\n",
       "    }\n",
       "\n",
       "    .dataframe thead th {\n",
       "        text-align: right;\n",
       "    }\n",
       "</style>\n",
       "<table border=\"1\" class=\"dataframe\">\n",
       "  <thead>\n",
       "    <tr style=\"text-align: right;\">\n",
       "      <th></th>\n",
       "      <th>id</th>\n",
       "      <th>book_title</th>\n",
       "      <th>author</th>\n",
       "      <th>isbn</th>\n",
       "    </tr>\n",
       "  </thead>\n",
       "  <tbody>\n",
       "    <tr>\n",
       "      <th>0</th>\n",
       "      <td>4979986</td>\n",
       "      <td>The Hunger Games</td>\n",
       "      <td>Suzanne Collins</td>\n",
       "      <td>0439023483</td>\n",
       "    </tr>\n",
       "    <tr>\n",
       "      <th>1</th>\n",
       "      <td>8384326</td>\n",
       "      <td>Twilight (2005)</td>\n",
       "      <td>Stephenie Meyer</td>\n",
       "      <td>0316015849</td>\n",
       "    </tr>\n",
       "    <tr>\n",
       "      <th>2</th>\n",
       "      <td>1541442</td>\n",
       "      <td>The Girl with the Dragon Tattoo (2005)</td>\n",
       "      <td>Stieg Larsson</td>\n",
       "      <td>0307454541</td>\n",
       "    </tr>\n",
       "    <tr>\n",
       "      <th>3</th>\n",
       "      <td>393681</td>\n",
       "      <td>The Book Thief (2007)</td>\n",
       "      <td>Markus Zusak</td>\n",
       "      <td>0375842209</td>\n",
       "    </tr>\n",
       "    <tr>\n",
       "      <th>4</th>\n",
       "      <td>8662515</td>\n",
       "      <td>Catching Fire</td>\n",
       "      <td>Suzanne Collins</td>\n",
       "      <td>0439023491</td>\n",
       "    </tr>\n",
       "  </tbody>\n",
       "</table>\n",
       "</div>"
      ],
      "text/plain": [
       "        id                              book_title           author  \\\n",
       "0  4979986                        The Hunger Games  Suzanne Collins   \n",
       "1  8384326                         Twilight (2005)  Stephenie Meyer   \n",
       "2  1541442  The Girl with the Dragon Tattoo (2005)    Stieg Larsson   \n",
       "3   393681                   The Book Thief (2007)     Markus Zusak   \n",
       "4  8662515                           Catching Fire  Suzanne Collins   \n",
       "\n",
       "         isbn  \n",
       "0  0439023483  \n",
       "1  0316015849  \n",
       "2  0307454541  \n",
       "3  0375842209  \n",
       "4  0439023491  "
      ]
     },
     "execution_count": 10,
     "metadata": {},
     "output_type": "execute_result"
    }
   ],
   "source": [
    "book_info = pd.read_csv(CLEANER_BOOK_INFO_PATH, dtype=object)\n",
    "book_info.head()"
   ]
  },
  {
   "cell_type": "code",
   "execution_count": 9,
   "metadata": {},
   "outputs": [
    {
     "name": "stdout",
     "output_type": "stream",
     "text": [
      "<class 'pandas.core.frame.DataFrame'>\n",
      "RangeIndex: 5000 entries, 0 to 4999\n",
      "Data columns (total 4 columns):\n",
      "id            5000 non-null object\n",
      "book_title    5000 non-null object\n",
      "author        5000 non-null object\n",
      "isbn          3638 non-null object\n",
      "dtypes: object(4)\n",
      "memory usage: 156.3+ KB\n"
     ]
    }
   ],
   "source": [
    "book_info.info()"
   ]
  },
  {
   "cell_type": "code",
   "execution_count": 5,
   "metadata": {},
   "outputs": [],
   "source": [
    "book_info['id'] = book_info.id.astype(int)"
   ]
  },
  {
   "cell_type": "code",
   "execution_count": 11,
   "metadata": {},
   "outputs": [],
   "source": [
    "# removing the missing isbns for now:\n",
    "book_info = book_info.dropna().reset_index(drop=True)"
   ]
  },
  {
   "cell_type": "code",
   "execution_count": 8,
   "metadata": {},
   "outputs": [
    {
     "data": {
      "text/html": [
       "<div>\n",
       "<style scoped>\n",
       "    .dataframe tbody tr th:only-of-type {\n",
       "        vertical-align: middle;\n",
       "    }\n",
       "\n",
       "    .dataframe tbody tr th {\n",
       "        vertical-align: top;\n",
       "    }\n",
       "\n",
       "    .dataframe thead th {\n",
       "        text-align: right;\n",
       "    }\n",
       "</style>\n",
       "<table border=\"1\" class=\"dataframe\">\n",
       "  <thead>\n",
       "    <tr style=\"text-align: right;\">\n",
       "      <th></th>\n",
       "      <th>id</th>\n",
       "      <th>book_title</th>\n",
       "      <th>author</th>\n",
       "      <th>isbn</th>\n",
       "    </tr>\n",
       "  </thead>\n",
       "  <tbody>\n",
       "    <tr>\n",
       "      <th>43</th>\n",
       "      <td>7903</td>\n",
       "      <td>The Glass Castle</td>\n",
       "      <td>Jeannette Walls</td>\n",
       "      <td>1844081826</td>\n",
       "    </tr>\n",
       "    <tr>\n",
       "      <th>59</th>\n",
       "      <td>2348</td>\n",
       "      <td>Atonement (2001)</td>\n",
       "      <td>Ian McEwan</td>\n",
       "      <td>9780099429791</td>\n",
       "    </tr>\n",
       "    <tr>\n",
       "      <th>66</th>\n",
       "      <td>1667444</td>\n",
       "      <td>The Handmaid's Tale (1985)</td>\n",
       "      <td>Margaret Atwood</td>\n",
       "      <td>9780385490818</td>\n",
       "    </tr>\n",
       "    <tr>\n",
       "      <th>69</th>\n",
       "      <td>3159496</td>\n",
       "      <td>Thirteen Reasons Why</td>\n",
       "      <td>Jay Asher</td>\n",
       "      <td>0141328290</td>\n",
       "    </tr>\n",
       "  </tbody>\n",
       "</table>\n",
       "</div>"
      ],
      "text/plain": [
       "         id                  book_title           author           isbn\n",
       "43     7903            The Glass Castle  Jeannette Walls     1844081826\n",
       "59     2348            Atonement (2001)       Ian McEwan  9780099429791\n",
       "66  1667444  The Handmaid's Tale (1985)  Margaret Atwood  9780385490818\n",
       "69  3159496        Thirteen Reasons Why        Jay Asher     0141328290"
      ]
     },
     "execution_count": 8,
     "metadata": {},
     "output_type": "execute_result"
    }
   ],
   "source": [
    "# fixing incorrect ISBN entries in book_info:\n",
    "book_info.loc[book_info.book_title == 'The Glass Castle', 'isbn'] = '1844081826'\n",
    "book_info.loc[book_info.book_title == 'Atonement (2001)', 'isbn'] = '9780099429791'\n",
    "book_info.loc[book_info.book_title == \"The Handmaid's Tale (1985)\", 'isbn'] = '9780385490818'\n",
    "book_info.loc[book_info.book_title == 'Thirteen Reasons Why', 'isbn'] = '0141328290'\n",
    "\n",
    "book_info.loc[[43, 59, 66, 69]]"
   ]
  },
  {
   "cell_type": "code",
   "execution_count": 9,
   "metadata": {},
   "outputs": [],
   "source": [
    "# I'm going to use a regex here to identify problematic ISBNs (that are not 10 or 13 digits in length) \n",
    "problem_isbns = book_info[- book_info.isbn.str.contains(r'^[\\d]{10,13}$')].copy()"
   ]
  },
  {
   "cell_type": "code",
   "execution_count": 10,
   "metadata": {},
   "outputs": [],
   "source": [
    "good_isbns = book_info[book_info.isbn.str.contains(r'^[\\d]{10,13}$')].copy()"
   ]
  },
  {
   "cell_type": "code",
   "execution_count": 11,
   "metadata": {},
   "outputs": [
    {
     "data": {
      "text/plain": [
       "(372, 4)"
      ]
     },
     "execution_count": 11,
     "metadata": {},
     "output_type": "execute_result"
    }
   ],
   "source": [
    "problem_isbns.shape"
   ]
  },
  {
   "cell_type": "code",
   "execution_count": 12,
   "metadata": {},
   "outputs": [
    {
     "data": {
      "text/plain": [
       "(3266, 4)"
      ]
     },
     "execution_count": 12,
     "metadata": {},
     "output_type": "execute_result"
    }
   ],
   "source": [
    "good_isbns.shape"
   ]
  },
  {
   "cell_type": "code",
   "execution_count": 13,
   "metadata": {},
   "outputs": [],
   "source": [
    "# fixing incorrect ISBN entries in the good_isbns df:\n",
    "# note that these entries are still incorrect in the book_info df:\n",
    "\n",
    "good_isbns.isbn.iloc[284] = '9780060590284'\n",
    "good_isbns.isbn.iloc[441] = '9780060590284'\n",
    "good_isbns.isbn.iloc[1023] = '9780194790185'\n",
    "good_isbns.isbn.iloc[1906] = '9780515134506'\n",
    "good_isbns.isbn.iloc[2065] = '9780385536097'"
   ]
  },
  {
   "cell_type": "code",
   "execution_count": 14,
   "metadata": {},
   "outputs": [],
   "source": [
    "# I will use the valid ISBNs to move on to the next step and get Goodreads book IDs\n",
    "# if time allows, I will manually correct the invalid ISBNs and add them to my dataset\n",
    "good_list = list(good_isbns.isbn)"
   ]
  },
  {
   "cell_type": "code",
   "execution_count": 15,
   "metadata": {},
   "outputs": [],
   "source": [
    "good_list_lb_ids = list(good_isbns.id)"
   ]
  },
  {
   "cell_type": "code",
   "execution_count": 16,
   "metadata": {},
   "outputs": [
    {
     "data": {
      "text/plain": [
       "3266"
      ]
     },
     "execution_count": 16,
     "metadata": {},
     "output_type": "execute_result"
    }
   ],
   "source": [
    "len(good_list)"
   ]
  },
  {
   "cell_type": "code",
   "execution_count": 17,
   "metadata": {},
   "outputs": [],
   "source": [
    "isbn_list = list(book_info.isbn)"
   ]
  },
  {
   "cell_type": "code",
   "execution_count": 18,
   "metadata": {},
   "outputs": [],
   "source": [
    "def acquire_goodreads_id(isbn_number):\n",
    "    \"\"\"\n",
    "    Collects Goodreads IDs using ISBNs and the Goodreads python connector. A 1 second delay is included in\n",
    "    the function to avoid being blocked.\n",
    "    \"\"\"\n",
    "    goodreads_id = []\n",
    "    for number in tqdm_notebook(isbn_number):\n",
    "        base_url = 'https://www.goodreads.com/book/isbn_to_id'\n",
    "        params = {'key': 'DOIHCwqd9wgM2dVm6827Og', 'isbn': number}\n",
    "\n",
    "        req_ = get(base_url, params=params)\n",
    "        json_ = req_.json()\n",
    "        goodreads_id.append(json_)\n",
    "        time.sleep(1)\n",
    "    return goodreads_id"
   ]
  },
  {
   "cell_type": "code",
   "execution_count": 19,
   "metadata": {},
   "outputs": [
    {
     "data": {
      "application/vnd.jupyter.widget-view+json": {
       "model_id": "d8305c84c6024d5f95b07f72d7971530",
       "version_major": 2,
       "version_minor": 0
      },
      "text/plain": [
       "HBox(children=(IntProgress(value=0, max=3266), HTML(value='')))"
      ]
     },
     "metadata": {},
     "output_type": "display_data"
    },
    {
     "name": "stdout",
     "output_type": "stream",
     "text": [
      "\n"
     ]
    }
   ],
   "source": [
    "goodreads_ids = acquire_goodreads_id(good_list)"
   ]
  },
  {
   "cell_type": "code",
   "execution_count": 20,
   "metadata": {},
   "outputs": [],
   "source": [
    "# making a dataframe with ISBNs and their corresponding Goodreads IDs\n",
    "goodreads_ids = pd.DataFrame({\n",
    "    'isbn': good_list,\n",
    "    'goodreads_id': goodreads_ids\n",
    "})"
   ]
  },
  {
   "cell_type": "code",
   "execution_count": 21,
   "metadata": {},
   "outputs": [
    {
     "data": {
      "text/html": [
       "<div>\n",
       "<style scoped>\n",
       "    .dataframe tbody tr th:only-of-type {\n",
       "        vertical-align: middle;\n",
       "    }\n",
       "\n",
       "    .dataframe tbody tr th {\n",
       "        vertical-align: top;\n",
       "    }\n",
       "\n",
       "    .dataframe thead th {\n",
       "        text-align: right;\n",
       "    }\n",
       "</style>\n",
       "<table border=\"1\" class=\"dataframe\">\n",
       "  <thead>\n",
       "    <tr style=\"text-align: right;\">\n",
       "      <th></th>\n",
       "      <th>isbn</th>\n",
       "      <th>goodreads_id</th>\n",
       "    </tr>\n",
       "  </thead>\n",
       "  <tbody>\n",
       "    <tr>\n",
       "      <th>0</th>\n",
       "      <td>0439023483</td>\n",
       "      <td>2767052</td>\n",
       "    </tr>\n",
       "    <tr>\n",
       "      <th>1</th>\n",
       "      <td>0316015849</td>\n",
       "      <td>41865</td>\n",
       "    </tr>\n",
       "    <tr>\n",
       "      <th>2</th>\n",
       "      <td>0307454541</td>\n",
       "      <td>5291539</td>\n",
       "    </tr>\n",
       "    <tr>\n",
       "      <th>3</th>\n",
       "      <td>0375842209</td>\n",
       "      <td>39395800</td>\n",
       "    </tr>\n",
       "    <tr>\n",
       "      <th>4</th>\n",
       "      <td>0439023491</td>\n",
       "      <td>6148028</td>\n",
       "    </tr>\n",
       "  </tbody>\n",
       "</table>\n",
       "</div>"
      ],
      "text/plain": [
       "         isbn  goodreads_id\n",
       "0  0439023483       2767052\n",
       "1  0316015849         41865\n",
       "2  0307454541       5291539\n",
       "3  0375842209      39395800\n",
       "4  0439023491       6148028"
      ]
     },
     "execution_count": 21,
     "metadata": {},
     "output_type": "execute_result"
    }
   ],
   "source": [
    "goodreads_ids.head()"
   ]
  },
  {
   "cell_type": "code",
   "execution_count": 22,
   "metadata": {},
   "outputs": [],
   "source": [
    "# saving this dataframe to avoid having to collect ISBNs again\n",
    "goodreads_ids.to_csv(GOODREADS_IDS_PATH, index=False)"
   ]
  },
  {
   "cell_type": "markdown",
   "metadata": {},
   "source": [
    "### Using the Python Interface for Goodreads to get Book Genre Information"
   ]
  },
  {
   "cell_type": "markdown",
   "metadata": {},
   "source": [
    "<font color=navy>\n",
    "    Here, it is important to use the BetterReads package rather than the goodreads package because the former provides count data for popular shelves, whereas the latter doesn't.\n",
    "    </font>"
   ]
  },
  {
   "cell_type": "code",
   "execution_count": 23,
   "metadata": {},
   "outputs": [],
   "source": [
    "gc = client.GoodreadsClient('DOIHCwqd9wgM2dVm6827Og', 'tWeUy3YeVrZ3a8E6rXjYLc3RvVhrM5zzHUNIdNMJBA')"
   ]
  },
  {
   "cell_type": "code",
   "execution_count": 24,
   "metadata": {},
   "outputs": [],
   "source": [
    "# here I'm setting the data type to object to avoid losing any leading zeroes in ISBNs\n",
    "goodreads_ids = pd.read_csv(GOODREADS_IDS_PATH, dtype=object)"
   ]
  },
  {
   "cell_type": "code",
   "execution_count": 25,
   "metadata": {},
   "outputs": [],
   "source": [
    "# adding LibraryThing book IDs to the dataframe to facilitate merging later on\n",
    "goodreads_ids['id'] = good_list_lb_ids"
   ]
  },
  {
   "cell_type": "code",
   "execution_count": 26,
   "metadata": {},
   "outputs": [],
   "source": [
    "goodreads_ids = goodreads_ids[['id', 'goodreads_id', 'isbn']]"
   ]
  },
  {
   "cell_type": "code",
   "execution_count": 27,
   "metadata": {},
   "outputs": [
    {
     "data": {
      "text/html": [
       "<div>\n",
       "<style scoped>\n",
       "    .dataframe tbody tr th:only-of-type {\n",
       "        vertical-align: middle;\n",
       "    }\n",
       "\n",
       "    .dataframe tbody tr th {\n",
       "        vertical-align: top;\n",
       "    }\n",
       "\n",
       "    .dataframe thead th {\n",
       "        text-align: right;\n",
       "    }\n",
       "</style>\n",
       "<table border=\"1\" class=\"dataframe\">\n",
       "  <thead>\n",
       "    <tr style=\"text-align: right;\">\n",
       "      <th></th>\n",
       "      <th>id</th>\n",
       "      <th>goodreads_id</th>\n",
       "      <th>isbn</th>\n",
       "    </tr>\n",
       "  </thead>\n",
       "  <tbody>\n",
       "    <tr>\n",
       "      <th>0</th>\n",
       "      <td>4979986</td>\n",
       "      <td>2767052</td>\n",
       "      <td>0439023483</td>\n",
       "    </tr>\n",
       "    <tr>\n",
       "      <th>1</th>\n",
       "      <td>8384326</td>\n",
       "      <td>41865</td>\n",
       "      <td>0316015849</td>\n",
       "    </tr>\n",
       "    <tr>\n",
       "      <th>2</th>\n",
       "      <td>1541442</td>\n",
       "      <td>5291539</td>\n",
       "      <td>0307454541</td>\n",
       "    </tr>\n",
       "    <tr>\n",
       "      <th>3</th>\n",
       "      <td>393681</td>\n",
       "      <td>39395800</td>\n",
       "      <td>0375842209</td>\n",
       "    </tr>\n",
       "    <tr>\n",
       "      <th>4</th>\n",
       "      <td>8662515</td>\n",
       "      <td>6148028</td>\n",
       "      <td>0439023491</td>\n",
       "    </tr>\n",
       "  </tbody>\n",
       "</table>\n",
       "</div>"
      ],
      "text/plain": [
       "        id goodreads_id        isbn\n",
       "0  4979986      2767052  0439023483\n",
       "1  8384326        41865  0316015849\n",
       "2  1541442      5291539  0307454541\n",
       "3   393681     39395800  0375842209\n",
       "4  8662515      6148028  0439023491"
      ]
     },
     "execution_count": 27,
     "metadata": {},
     "output_type": "execute_result"
    }
   ],
   "source": [
    "goodreads_ids.head()"
   ]
  },
  {
   "cell_type": "code",
   "execution_count": 28,
   "metadata": {},
   "outputs": [
    {
     "data": {
      "text/plain": [
       "(3266, 3)"
      ]
     },
     "execution_count": 28,
     "metadata": {},
     "output_type": "execute_result"
    }
   ],
   "source": [
    "goodreads_ids.shape"
   ]
  },
  {
   "cell_type": "code",
   "execution_count": 29,
   "metadata": {},
   "outputs": [],
   "source": [
    "def get_book_titles(book_id):\n",
    "    book_titles = []\n",
    "    for number in tqdm_notebook(book_id):\n",
    "        book_titles.append((gc.book(number)).title)\n",
    "        time.sleep(1)\n",
    "    return book_titles"
   ]
  },
  {
   "cell_type": "code",
   "execution_count": 30,
   "metadata": {},
   "outputs": [
    {
     "data": {
      "application/vnd.jupyter.widget-view+json": {
       "model_id": "5c2431ba7f6d4e19a8508c42a9677403",
       "version_major": 2,
       "version_minor": 0
      },
      "text/plain": [
       "HBox(children=(IntProgress(value=0, max=3266), HTML(value='')))"
      ]
     },
     "metadata": {},
     "output_type": "display_data"
    },
    {
     "name": "stdout",
     "output_type": "stream",
     "text": [
      "\n"
     ]
    }
   ],
   "source": [
    "# getting book titles from Goodreads to confirm that they match those from the LibraryThing dataset\n",
    "goodreads_book_titles = get_book_titles(goodreads_ids.goodreads_id)"
   ]
  },
  {
   "cell_type": "code",
   "execution_count": 31,
   "metadata": {},
   "outputs": [
    {
     "data": {
      "text/plain": [
       "['Twilight (Twilight, #1)',\n",
       " 'The Girl with the Dragon Tattoo (Millennium, #1)',\n",
       " 'The Book Thief',\n",
       " 'Catching Fire (The Hunger Games, #2)',\n",
       " 'Harry Potter and the Deathly Hallows (Harry Potter, #7)',\n",
       " 'The Help',\n",
       " 'The Kite Runner',\n",
       " 'The Da Vinci Code',\n",
       " 'The Guernsey Literary and Potato Peel Pie Society',\n",
       " 'The Curious Incident of the Dog in the Night-Time',\n",
       " 'New Moon (Twilight, #2)',\n",
       " 'The Graveyard Book',\n",
       " 'The Lovely Bones',\n",
       " 'Pride and Prejudice',\n",
       " 'The Giver (The Giver, #1)',\n",
       " 'To Kill a Mockingbird',\n",
       " 'Eclipse (Twilight, #3)',\n",
       " 'The Lightning Thief (Percy Jackson and the Olympians, #1)',\n",
       " 'Eat, Pray, Love']"
      ]
     },
     "execution_count": 31,
     "metadata": {},
     "output_type": "execute_result"
    }
   ],
   "source": [
    "# verifying that the book titles are correct\n",
    "goodreads_book_titles[1:20]"
   ]
  },
  {
   "cell_type": "code",
   "execution_count": 32,
   "metadata": {},
   "outputs": [],
   "source": [
    "goodreads_ids['goodreads_book_titles'] = goodreads_book_titles"
   ]
  },
  {
   "cell_type": "code",
   "execution_count": 33,
   "metadata": {},
   "outputs": [],
   "source": [
    "def get_book_shelves(book_id):\n",
    "    book_shelves = []\n",
    "    for number in tqdm_notebook(book_id):\n",
    "        book_shelves.append((gc.book(number)).popular_shelves)\n",
    "        time.sleep(1)\n",
    "    return book_shelves"
   ]
  },
  {
   "cell_type": "code",
   "execution_count": 35,
   "metadata": {},
   "outputs": [],
   "source": [
    "raw_book_shelves = get_book_shelves(goodreads_ids.goodreads_id)"
   ]
  },
  {
   "cell_type": "code",
   "execution_count": 36,
   "metadata": {},
   "outputs": [],
   "source": [
    "goodreads_ids['goodreads_shelves'] = raw_book_shelves"
   ]
  },
  {
   "cell_type": "code",
   "execution_count": 37,
   "metadata": {},
   "outputs": [],
   "source": [
    "# saving a copy of the dataset to avoid having to get Goodreads shelves information again\n",
    "goodreads_ids.to_csv(RAW_GOODREADS_IDS_GENRES_PATH, index=False)"
   ]
  },
  {
   "cell_type": "code",
   "execution_count": 38,
   "metadata": {},
   "outputs": [],
   "source": [
    "goodreads_ids_genres = pd.read_csv(RAW_GOODREADS_IDS_GENRES_PATH, dtype=object)"
   ]
  },
  {
   "cell_type": "code",
   "execution_count": 39,
   "metadata": {},
   "outputs": [
    {
     "data": {
      "text/html": [
       "<div>\n",
       "<style scoped>\n",
       "    .dataframe tbody tr th:only-of-type {\n",
       "        vertical-align: middle;\n",
       "    }\n",
       "\n",
       "    .dataframe tbody tr th {\n",
       "        vertical-align: top;\n",
       "    }\n",
       "\n",
       "    .dataframe thead th {\n",
       "        text-align: right;\n",
       "    }\n",
       "</style>\n",
       "<table border=\"1\" class=\"dataframe\">\n",
       "  <thead>\n",
       "    <tr style=\"text-align: right;\">\n",
       "      <th></th>\n",
       "      <th>id</th>\n",
       "      <th>goodreads_id</th>\n",
       "      <th>isbn</th>\n",
       "      <th>goodreads_book_titles</th>\n",
       "      <th>goodreads_shelves</th>\n",
       "    </tr>\n",
       "  </thead>\n",
       "  <tbody>\n",
       "    <tr>\n",
       "      <th>0</th>\n",
       "      <td>4979986</td>\n",
       "      <td>2767052</td>\n",
       "      <td>0439023483</td>\n",
       "      <td>The Hunger Games (The Hunger Games, #1)</td>\n",
       "      <td>[{'@name': 'to-read', '@count': '870985'}, {'@...</td>\n",
       "    </tr>\n",
       "    <tr>\n",
       "      <th>1</th>\n",
       "      <td>8384326</td>\n",
       "      <td>41865</td>\n",
       "      <td>0316015849</td>\n",
       "      <td>Twilight (Twilight, #1)</td>\n",
       "      <td>[{'@name': 'to-read', '@count': '599873'}, {'@...</td>\n",
       "    </tr>\n",
       "    <tr>\n",
       "      <th>2</th>\n",
       "      <td>1541442</td>\n",
       "      <td>5291539</td>\n",
       "      <td>0307454541</td>\n",
       "      <td>The Girl with the Dragon Tattoo (Millennium, #1)</td>\n",
       "      <td>[{'@name': 'to-read', '@count': '745270'}, {'@...</td>\n",
       "    </tr>\n",
       "    <tr>\n",
       "      <th>3</th>\n",
       "      <td>393681</td>\n",
       "      <td>39395800</td>\n",
       "      <td>0375842209</td>\n",
       "      <td>The Book Thief</td>\n",
       "      <td>[{'@name': 'to-read', '@count': '1013995'}, {'...</td>\n",
       "    </tr>\n",
       "    <tr>\n",
       "      <th>4</th>\n",
       "      <td>8662515</td>\n",
       "      <td>6148028</td>\n",
       "      <td>0439023491</td>\n",
       "      <td>Catching Fire (The Hunger Games, #2)</td>\n",
       "      <td>[{'@name': 'to-read', '@count': '221799'}, {'@...</td>\n",
       "    </tr>\n",
       "  </tbody>\n",
       "</table>\n",
       "</div>"
      ],
      "text/plain": [
       "        id goodreads_id        isbn  \\\n",
       "0  4979986      2767052  0439023483   \n",
       "1  8384326        41865  0316015849   \n",
       "2  1541442      5291539  0307454541   \n",
       "3   393681     39395800  0375842209   \n",
       "4  8662515      6148028  0439023491   \n",
       "\n",
       "                              goodreads_book_titles  \\\n",
       "0           The Hunger Games (The Hunger Games, #1)   \n",
       "1                           Twilight (Twilight, #1)   \n",
       "2  The Girl with the Dragon Tattoo (Millennium, #1)   \n",
       "3                                    The Book Thief   \n",
       "4              Catching Fire (The Hunger Games, #2)   \n",
       "\n",
       "                                   goodreads_shelves  \n",
       "0  [{'@name': 'to-read', '@count': '870985'}, {'@...  \n",
       "1  [{'@name': 'to-read', '@count': '599873'}, {'@...  \n",
       "2  [{'@name': 'to-read', '@count': '745270'}, {'@...  \n",
       "3  [{'@name': 'to-read', '@count': '1013995'}, {'...  \n",
       "4  [{'@name': 'to-read', '@count': '221799'}, {'@...  "
      ]
     },
     "execution_count": 39,
     "metadata": {},
     "output_type": "execute_result"
    }
   ],
   "source": [
    "goodreads_ids_genres.head()"
   ]
  },
  {
   "cell_type": "markdown",
   "metadata": {},
   "source": [
    "### Processing Book Genre Information"
   ]
  },
  {
   "cell_type": "markdown",
   "metadata": {},
   "source": [
    "<font color=navy>\n",
    "    Below, I'm showing the different steps that allowed me to build the function that takes the raw Goodreads shelves in each entry of the goodreads_shelves column, removes extraneous information, assigns book genres based on keywords then returns the main book genre(s) for each book.\n",
    "    </font>"
   ]
  },
  {
   "cell_type": "code",
   "execution_count": 40,
   "metadata": {
    "scrolled": true
   },
   "outputs": [
    {
     "data": {
      "text/plain": [
       "1500    [{'@name': 'politics', '@count': '727'}, {'@na...\n",
       "Name: goodreads_shelves, dtype: object"
      ]
     },
     "execution_count": 40,
     "metadata": {},
     "output_type": "execute_result"
    }
   ],
   "source": [
    "# sampling a book at random\n",
    "# I improved my filters below by randomly sampling books 50 times and checking the main genres they returned\n",
    "goodreads_ids_genres.goodreads_shelves.sample()"
   ]
  },
  {
   "cell_type": "code",
   "execution_count": 51,
   "metadata": {},
   "outputs": [],
   "source": [
    "# create a dataframe from the list of dictionaries\n",
    "# because each entry was read as a string, I had to use eval:\n",
    "genre_info = pd.DataFrame(eval(goodreads_ids_genres.goodreads_shelves[1]))"
   ]
  },
  {
   "cell_type": "code",
   "execution_count": 52,
   "metadata": {},
   "outputs": [
    {
     "data": {
      "text/html": [
       "<div>\n",
       "<style scoped>\n",
       "    .dataframe tbody tr th:only-of-type {\n",
       "        vertical-align: middle;\n",
       "    }\n",
       "\n",
       "    .dataframe tbody tr th {\n",
       "        vertical-align: top;\n",
       "    }\n",
       "\n",
       "    .dataframe thead th {\n",
       "        text-align: right;\n",
       "    }\n",
       "</style>\n",
       "<table border=\"1\" class=\"dataframe\">\n",
       "  <thead>\n",
       "    <tr style=\"text-align: right;\">\n",
       "      <th></th>\n",
       "      <th>@count</th>\n",
       "      <th>@name</th>\n",
       "    </tr>\n",
       "  </thead>\n",
       "  <tbody>\n",
       "    <tr>\n",
       "      <th>0</th>\n",
       "      <td>599873</td>\n",
       "      <td>to-read</td>\n",
       "    </tr>\n",
       "    <tr>\n",
       "      <th>1</th>\n",
       "      <td>21136</td>\n",
       "      <td>currently-reading</td>\n",
       "    </tr>\n",
       "    <tr>\n",
       "      <th>2</th>\n",
       "      <td>18033</td>\n",
       "      <td>young-adult</td>\n",
       "    </tr>\n",
       "    <tr>\n",
       "      <th>3</th>\n",
       "      <td>16141</td>\n",
       "      <td>fantasy</td>\n",
       "    </tr>\n",
       "    <tr>\n",
       "      <th>4</th>\n",
       "      <td>12163</td>\n",
       "      <td>favorites</td>\n",
       "    </tr>\n",
       "  </tbody>\n",
       "</table>\n",
       "</div>"
      ],
      "text/plain": [
       "   @count              @name\n",
       "0  599873            to-read\n",
       "1   21136  currently-reading\n",
       "2   18033        young-adult\n",
       "3   16141            fantasy\n",
       "4   12163          favorites"
      ]
     },
     "execution_count": 52,
     "metadata": {},
     "output_type": "execute_result"
    }
   ],
   "source": [
    "genre_info.head()"
   ]
  },
  {
   "cell_type": "code",
   "execution_count": 53,
   "metadata": {},
   "outputs": [],
   "source": [
    "# renaming the column names so they are cleaner\n",
    "genre_info.rename(columns={'@count': 'counts', '@name': 'genre'}, inplace=True)"
   ]
  },
  {
   "cell_type": "code",
   "execution_count": 54,
   "metadata": {
    "scrolled": false
   },
   "outputs": [
    {
     "data": {
      "text/html": [
       "<div>\n",
       "<style scoped>\n",
       "    .dataframe tbody tr th:only-of-type {\n",
       "        vertical-align: middle;\n",
       "    }\n",
       "\n",
       "    .dataframe tbody tr th {\n",
       "        vertical-align: top;\n",
       "    }\n",
       "\n",
       "    .dataframe thead th {\n",
       "        text-align: right;\n",
       "    }\n",
       "</style>\n",
       "<table border=\"1\" class=\"dataframe\">\n",
       "  <thead>\n",
       "    <tr style=\"text-align: right;\">\n",
       "      <th></th>\n",
       "      <th>counts</th>\n",
       "      <th>genre</th>\n",
       "    </tr>\n",
       "  </thead>\n",
       "  <tbody>\n",
       "    <tr>\n",
       "      <th>0</th>\n",
       "      <td>599873</td>\n",
       "      <td>to-read</td>\n",
       "    </tr>\n",
       "    <tr>\n",
       "      <th>1</th>\n",
       "      <td>21136</td>\n",
       "      <td>currently-reading</td>\n",
       "    </tr>\n",
       "    <tr>\n",
       "      <th>2</th>\n",
       "      <td>18033</td>\n",
       "      <td>young-adult</td>\n",
       "    </tr>\n",
       "    <tr>\n",
       "      <th>3</th>\n",
       "      <td>16141</td>\n",
       "      <td>fantasy</td>\n",
       "    </tr>\n",
       "    <tr>\n",
       "      <th>4</th>\n",
       "      <td>12163</td>\n",
       "      <td>favorites</td>\n",
       "    </tr>\n",
       "  </tbody>\n",
       "</table>\n",
       "</div>"
      ],
      "text/plain": [
       "   counts              genre\n",
       "0  599873            to-read\n",
       "1   21136  currently-reading\n",
       "2   18033        young-adult\n",
       "3   16141            fantasy\n",
       "4   12163          favorites"
      ]
     },
     "execution_count": 54,
     "metadata": {},
     "output_type": "execute_result"
    }
   ],
   "source": [
    "genre_info.head()"
   ]
  },
  {
   "cell_type": "code",
   "execution_count": 55,
   "metadata": {},
   "outputs": [],
   "source": [
    "# generating a black list for goodreads shelves (i.e. categories that don't correspond to book genres)\n",
    "# this filter will allow me to remove them\n",
    "genre_filter = ['to-read', 'favorites', 'currently-reading', 'books-i-own', 'owned', 'series',\n",
    "       'favourites', 'owned-books', 'book-club', 'kindle', 'my-books', 'favorite-books',\n",
    "       'read-in-2012', 're-read', 'all-time-favorites', '5-stars', 'books', 'bookclub', 'audible', 'audio-books',\n",
    "       'favorite', 'audiobook', 'novels', 'ebook', 'i-own', 'audiobooks', 'meh', 'dnf', 'have', 'audio-book',\n",
    "       'read-in-2011', 'my-favorites', 'default', 'library', 'books-i-have', 'did-not-finish', 'recommended',\n",
    "       'translated', 'must-read', 'book-club-books', 'millennium', 'five-stars', 'didn-t-finish', 'never-finished',\n",
    "       'ebooks', 'read-2012', 'reread', 'faves', 'my-library', 'read-in-2010', 'audio','unfinished',\n",
    "       'shelfari-favorites', 'favs', 'finished', 'own-it', 'favorite-series', 'english', 'abandoned', 'paperback',\n",
    "       'loved', 'novel', 'read-more-than-once', 'read-in-2013', 'borrowed', 'on-my-shelf', 'read-2010',\n",
    "       'favourite', 'want-to-buy', 'to-buy', 'bookshelf', 'my-bookshelf', '4-stars', 'already-read', 'page-turner', 'best-books',\n",
    "       'favourite-books', 'trilogy', 'read-2011', 're-reads', '5-star', 'reviewed', 'e-book', 'never-again',\n",
    "       'read-in-2009', 'read-in-2008', '4-star', '3-star', '2-star', '1-star','0-star', '3-stars', '2-star', '1-star',\n",
    "       '0-star', 'read-in-', '-star', '-stars', 'movie', 'chick-lit', 'guilty-pleasure', 'recommend', 'wish-list', 'book-group'\n",
    "       'on-hold','read-', 'stand-alone', 'made-me-cry', 'gave-up-on', 'gave-up', 'i-only-watched-the-movie', 'owned-to-read',\n",
    "       'couldn-t-finish', 'could-not-finish', 'best-ever']"
   ]
  },
  {
   "cell_type": "code",
   "execution_count": 56,
   "metadata": {},
   "outputs": [],
   "source": [
    "# assumption here: I'm treating 'love' as I would 'romance', ie as a genre\n",
    "# however I'm treating 'loved' as a goodreads shelf, ie \"popular loved books\"\n",
    "# this is based on info from the goodreads website"
   ]
  },
  {
   "cell_type": "code",
   "execution_count": 57,
   "metadata": {},
   "outputs": [
    {
     "data": {
      "text/plain": [
       "0.6"
      ]
     },
     "execution_count": 57,
     "metadata": {},
     "output_type": "execute_result"
    }
   ],
   "source": [
    "# creating the filter to remove extraneous information\n",
    "# calculating the fraction of genres that aren't useful\n",
    "search_pattern = '|'.join(genre_filter)\n",
    "m_bad_genres = genre_info.genre.str.contains(search_pattern)\n",
    "m_bad_genres.mean()"
   ]
  },
  {
   "cell_type": "code",
   "execution_count": 58,
   "metadata": {},
   "outputs": [
    {
     "data": {
      "text/html": [
       "<div>\n",
       "<style scoped>\n",
       "    .dataframe tbody tr th:only-of-type {\n",
       "        vertical-align: middle;\n",
       "    }\n",
       "\n",
       "    .dataframe tbody tr th {\n",
       "        vertical-align: top;\n",
       "    }\n",
       "\n",
       "    .dataframe thead th {\n",
       "        text-align: right;\n",
       "    }\n",
       "</style>\n",
       "<table border=\"1\" class=\"dataframe\">\n",
       "  <thead>\n",
       "    <tr style=\"text-align: right;\">\n",
       "      <th></th>\n",
       "      <th>counts</th>\n",
       "      <th>genre</th>\n",
       "    </tr>\n",
       "  </thead>\n",
       "  <tbody>\n",
       "    <tr>\n",
       "      <th>2</th>\n",
       "      <td>18033</td>\n",
       "      <td>young-adult</td>\n",
       "    </tr>\n",
       "    <tr>\n",
       "      <th>3</th>\n",
       "      <td>16141</td>\n",
       "      <td>fantasy</td>\n",
       "    </tr>\n",
       "    <tr>\n",
       "      <th>5</th>\n",
       "      <td>10048</td>\n",
       "      <td>romance</td>\n",
       "    </tr>\n",
       "    <tr>\n",
       "      <th>6</th>\n",
       "      <td>7612</td>\n",
       "      <td>vampires</td>\n",
       "    </tr>\n",
       "    <tr>\n",
       "      <th>7</th>\n",
       "      <td>7256</td>\n",
       "      <td>ya</td>\n",
       "    </tr>\n",
       "  </tbody>\n",
       "</table>\n",
       "</div>"
      ],
      "text/plain": [
       "  counts        genre\n",
       "2  18033  young-adult\n",
       "3  16141      fantasy\n",
       "5  10048      romance\n",
       "6   7612     vampires\n",
       "7   7256           ya"
      ]
     },
     "execution_count": 58,
     "metadata": {},
     "output_type": "execute_result"
    }
   ],
   "source": [
    "genre_info[~ m_bad_genres].head()"
   ]
  },
  {
   "cell_type": "code",
   "execution_count": 59,
   "metadata": {},
   "outputs": [],
   "source": [
    "# applying the filter and removing extraneous information\n",
    "clean_genre = genre_info[~ m_bad_genres].copy()\n",
    "clean_genre.reset_index(drop=True, inplace=True)"
   ]
  },
  {
   "cell_type": "code",
   "execution_count": 12,
   "metadata": {},
   "outputs": [
    {
     "ename": "NameError",
     "evalue": "name 'clean_genre' is not defined",
     "output_type": "error",
     "traceback": [
      "\u001b[0;31m---------------------------------------------------------------------------\u001b[0m",
      "\u001b[0;31mNameError\u001b[0m                                 Traceback (most recent call last)",
      "\u001b[0;32m<ipython-input-12-84743dd83930>\u001b[0m in \u001b[0;36m<module>\u001b[0;34m\u001b[0m\n\u001b[1;32m      1\u001b[0m \u001b[0;31m# checking what is left after filtering out unnecessary information\u001b[0m\u001b[0;34m\u001b[0m\u001b[0;34m\u001b[0m\u001b[0;34m\u001b[0m\u001b[0m\n\u001b[0;32m----> 2\u001b[0;31m \u001b[0mclean_genre\u001b[0m\u001b[0;34m.\u001b[0m\u001b[0mhead\u001b[0m\u001b[0;34m(\u001b[0m\u001b[0;36m10\u001b[0m\u001b[0;34m)\u001b[0m\u001b[0;34m\u001b[0m\u001b[0;34m\u001b[0m\u001b[0m\n\u001b[0m",
      "\u001b[0;31mNameError\u001b[0m: name 'clean_genre' is not defined"
     ]
    }
   ],
   "source": [
    "# checking what is left after filtering out unnecessary information\n",
    "clean_genre.head(10)"
   ]
  },
  {
   "cell_type": "code",
   "execution_count": 61,
   "metadata": {},
   "outputs": [
    {
     "data": {
      "text/plain": [
       "(40, 2)"
      ]
     },
     "execution_count": 61,
     "metadata": {},
     "output_type": "execute_result"
    }
   ],
   "source": [
    "clean_genre.shape"
   ]
  },
  {
   "cell_type": "code",
   "execution_count": 62,
   "metadata": {},
   "outputs": [],
   "source": [
    "# generating a white list for book genres\n",
    "genre_dict = {\n",
    "    'young-adult-fiction': 'fiction',\n",
    "    'ya-paranormal': 'fantasy',\n",
    "    'ya-fantasy': 'fantasy',\n",
    "    'ya-dystopian': 'science-fiction',\n",
    "    'teen-fiction': 'fiction',\n",
    "    'young-adult-fantasy': 'fantasy',\n",
    "    'ya-fiction': 'fiction',\n",
    "    'ya-historical-fiction': 'fiction',\n",
    "    'horror': 'fiction',\n",
    "    'horror-suspense': 'fiction',\n",
    "    'terror': 'fiction',\n",
    "    'fiction-horror': 'fiction',\n",
    "    'gothic': 'fiction',\n",
    "    'adult-fiction': 'fiction',\n",
    "    'southern-fiction': 'fiction',\n",
    "    'literary-fiction': 'fiction',\n",
    "    'juvenile-fiction': 'fiction',\n",
    "    'fiction': 'fiction',\n",
    "    'realistic-fiction': 'fiction',\n",
    "    'modern-fiction': 'fiction',\n",
    "    'general-fiction': 'fiction',\n",
    "    'popular-fiction': 'fiction',\n",
    "    'metafiction': 'fiction',\n",
    "    'animal-fiction': 'fiction',\n",
    "    'fiction-historical': 'fiction',\n",
    "    'classic-fiction': 'fiction',\n",
    "    'contemporary-fiction': 'fiction',\n",
    "    'historical-fiction': 'fiction',\n",
    "    'historical-fic': 'fiction',\n",
    "    'historic-fiction': 'fiction',\n",
    "    'dystopian': 'science-fiction',\n",
    "    'dystopia': 'science-fiction',\n",
    "    'post-apocalyptic': 'science-fiction',\n",
    "    'distopia': 'science-fiction',\n",
    "    'distopian': 'science-fiction',\n",
    "    'dystopian-fiction': 'science-fiction',\n",
    "    'speculative-fiction': 'science-fiction',\n",
    "    'dystopias': 'science-fiction',\n",
    "    'science-fiction-fantasy': 'science-fiction',\n",
    "    'adventure': 'fiction',\n",
    "    'science-fiction': 'science-fiction',\n",
    "    'sci-fi': 'science-fiction',\n",
    "    'futuristic': 'science-fiction',\n",
    "    'future': 'science-fiction',\n",
    "    'sci-fi-fantasy': 'science-fiction',\n",
    "    'scifi': 'science-fiction',\n",
    "    'scifi-fantasy': 'science-fiction',\n",
    "    'sf': 'science-fiction',\n",
    "    'space opera': 'science-fiction',\n",
    "    'space-opera': 'science-fiction',\n",
    "    'sff': 'science-fiction',\n",
    "    'aliens': 'science-fiction',\n",
    "    'sf-fantasy': 'science-fiction',\n",
    "    'sci-fi-and-fantasy': 'science-fiction',\n",
    "    'sciencefiction': 'science-fiction',\n",
    "    'far-future': 'science-fiction',\n",
    "    'first-contact': 'science-fiction',\n",
    "    'utopia': 'science-fiction',\n",
    "    'science-fiction-and-fantasy': 'science-fiction',\n",
    "    'hard-sci-fi': 'science-fiction',\n",
    "    'sf-f': 'science-fiction',\n",
    "    'fantasy': 'fantasy',\n",
    "    'high-fantasy': 'fantasy',\n",
    "    'fantasy-sci-fi': 'fantasy',\n",
    "    'paranormal-fantasy': 'fantasy',\n",
    "    'paranormal': 'fantasy',\n",
    "    'vampires': 'fantasy',\n",
    "    'vampire': 'fantasy',\n",
    "    'vamps': 'fantasy',\n",
    "    'urban-fantasy': 'fantasy',\n",
    "    'supernatural': 'fantasy',\n",
    "    'werewolves': 'fantasy',\n",
    "    'fairy-tales': 'fantasy',\n",
    "    'fairy tales': 'fantasy',\n",
    "    'fairy-tale': 'fantasy',\n",
    "    'fantasy-paranormal': 'fantasy',\n",
    "    'epic fantasy': 'fantasy',\n",
    "    'epic-fantasy': 'fantasy',\n",
    "    'fantasia': 'fantasy',\n",
    "    'fantasy-fiction': 'fantasy',\n",
    "    'mythology': 'fantasy',\n",
    "    'magic': 'fantasy',\n",
    "    'witches': 'fantasy',\n",
    "    'wizards': 'fantasy',\n",
    "    'dragons': 'fantasy',\n",
    "    'shapeshifters': 'fantasy', \n",
    "    'shifters': 'fantasy',\n",
    "    'werewolf': 'fantasy',\n",
    "    'ghosts': 'fantasy',\n",
    "    'ghost-stories': 'fantasy',\n",
    "    'fiction-fantasy': 'fantasy',\n",
    "    'fantasy-scifi': 'fantasy',\n",
    "    'magical-realism': 'fantasy',\n",
    "    'fantasy-science-fiction': 'fantasy',\n",
    "    'genre-fantasy': 'fantasy',\n",
    "    'fantasy-and-sci-fi': 'fantasy',\n",
    "    'dark-fantasy': 'fantasy',\n",
    "    'horror-supernatural': 'fantasy',\n",
    "    'fantastic': 'fantasy',\n",
    "    'romance': 'romance',\n",
    "    'pnr': 'romance',\n",
    "    'love': 'romance',\n",
    "    'love-triangle': 'romance',\n",
    "    'paranormal-romance': 'romance',\n",
    "    'romantic': 'romance',\n",
    "    'historical-romance': 'romance',\n",
    "    'gothic-romance': 'romance',\n",
    "    'thriller': 'thriller',\n",
    "    'thrillers': 'thriller',\n",
    "    'psychological-thriller': 'thriller',\n",
    "    'thriller-mystery': 'thriller',\n",
    "    'thriller-suspense': 'thriller',\n",
    "    'suspense': 'thriller',\n",
    "    'suspense-thriller': 'thriller',\n",
    "    'conspiracy': 'thriller',\n",
    "    'medical-thriller': 'thriller',\n",
    "    'mystery': 'mystery',\n",
    "    'mystery-thriller': 'mystery',\n",
    "    'mystery-suspense': 'mystery',\n",
    "    'mystery-crime': 'mystery',\n",
    "    'mysteries': 'mystery',\n",
    "    'historical-mystery': 'mystery',\n",
    "    'historical mystery': 'mystery',\n",
    "    'forensic-mystery': 'mystery',\n",
    "    'classic-mystery': 'mystery',\n",
    "    'classic mystery': 'mystery',\n",
    "    'fiction-mystery': 'mystery',\n",
    "    'murder-mystery': 'mystery',\n",
    "    'cozy-mystery': 'mystery',\n",
    "    'golden-age-mystery': 'mystery',\n",
    "    'mysteries-thrillers': 'mystery',\n",
    "    'mystery-thrillers': 'mystery',\n",
    "    'classic-mysteries': 'mystery',\n",
    "    'mystery-classic': 'mystery',\n",
    "    'mystery-detective': 'mystery',\n",
    "    'mystery-cozy': 'mystery',\n",
    "    'golden-age-mysteries': 'mystery',\n",
    "    'mystery-thriller-suspense': 'mystery',\n",
    "    'forensic-mysteries': 'mystery',\n",
    "    'crime-mystery-thriller': 'thriller',\n",
    "    'crime': 'thriller',\n",
    "    'crime-fiction': 'thriller',\n",
    "    'crime-thriller': 'thriller',\n",
    "    'crime-mystery': 'thriller',\n",
    "    'horror-thriller': 'thriller',\n",
    "    'murder-mystery': 'thriller',\n",
    "    'murder': 'thriller',\n",
    "    'detective': 'thriller',\n",
    "    'detectives': 'thriller',\n",
    "    'detective-fiction': 'thriller',\n",
    "    'thriller-horror': 'thriller',\n",
    "    'crime-thrillers': 'thriller',\n",
    "    'crime-and-mystery': 'thriller',\n",
    "    'serial killer': 'thriller',\n",
    "    'serial-killers': 'thriller',\n",
    "    'serial-killer': 'thriller',\n",
    "    'informational': 'non-fiction',\n",
    "    'science': 'non-fiction',\n",
    "    'math-and-science': 'non-fiction',\n",
    "    'plants': 'non-fiction',\n",
    "    'nature': 'non-fiction',\n",
    "    'war': 'non-fiction',\n",
    "    'holocaust': 'non-fiction',\n",
    "    'wwii': 'non-fiction',\n",
    "    'ww2': 'non-fiction',\n",
    "    'world-war-2': 'non-fiction',\n",
    "    'world-war-ii': 'non-fiction',\n",
    "    'world-war-ll': 'non-fiction',\n",
    "    'german-occupation': 'non-fiction',\n",
    "    'historical': 'non-fiction', \n",
    "    '1800s': 'non-fiction',\n",
    "    '1900s': 'non-fiction',\n",
    "    '1910s': 'non-fiction',\n",
    "    '1920s': 'non-fiction',\n",
    "    '1930s': 'non-fiction',\n",
    "    '1940s': 'non-fiction',\n",
    "    '1950s': 'non-fiction',\n",
    "    '1960s': 'non-fiction',\n",
    "    '1970s': 'non-fiction',\n",
    "    '1980s': 'non-fiction',\n",
    "    '1990s': 'non-fiction',\n",
    "    '18th-century': 'non-fiction',\n",
    "    '19th-century': 'non-fiction',\n",
    "    'history': 'non-fiction',\n",
    "    'contemporary': 'non-fiction',\n",
    "    'modern': 'non-fiction',\n",
    "    'civil-rights': 'non-fiction',\n",
    "    'segregation': 'non-fiction',\n",
    "    'racial-discrimination': 'non-fiction',\n",
    "    'racism': 'non-fiction',\n",
    "    'death': 'thriller',\n",
    "    'dark': 'thriller', \n",
    "    'classic-literature': 'non-fiction',\n",
    "    'classic-lit': 'non-fiction',\n",
    "    'literature': 'non-fiction',\n",
    "    'literary': 'non-fiction',\n",
    "    'non-fiction': 'non-fiction',\n",
    "    'nonfiction': 'non-fiction',\n",
    "    'religion': 'non-fiction',\n",
    "    'psychology': 'non-fiction',\n",
    "    'medical': 'non-fiction',\n",
    "    'mental-health': 'non-fiction',\n",
    "    'autism': 'non-fiction',\n",
    "    'mental-illness': 'non-fiction',\n",
    "    'disability': 'non-fiction',\n",
    "    'philosophy': 'non-fiction',\n",
    "    'general-non-fiction': 'non-fiction',\n",
    "    'faith': 'non-fiction',\n",
    "    'journalism': 'non-fiction',\n",
    "    'biography': 'non-fiction',\n",
    "    'true-crime': 'non-fiction',\n",
    "    'non-fic': 'non-fiction',\n",
    "    'nonfic': 'non-fiction',\n",
    "    'adult-nonfiction': 'non-fiction',\n",
    "    'sociology': 'non-fiction',\n",
    "    'religious': 'non-fiction',\n",
    "    'spirituality': 'non-fiction',\n",
    "    'religion-spirituality': 'non-fiction',\n",
    "    'religion-and-spirituality': 'non-fiction',\n",
    "    'faith-spirituality': 'non-fiction',\n",
    "    'spiritual': 'non-fiction',\n",
    "    'spirituality-religion': 'non-fiction',\n",
    "    'atheism': 'non-fiction',\n",
    "    'memoir': 'non-fiction',\n",
    "    'adult-non-fiction': 'non-fiction',\n",
    "    'narrative-nonfiction': 'non-fiction',\n",
    "    'true': 'non-fiction',\n",
    "    'theology': 'non-fiction',\n",
    "    'seasons': 'non-fiction',\n",
    "    'flowers': 'non-fiction', \n",
    "    'immigration': 'non-fiction',\n",
    "    'social studies': 'non-fiction',\n",
    "    'travel': 'non-fiction', \n",
    "    'disease': 'non-fiction',\n",
    "    'fever': 'non-fiction',\n",
    "    'epidemic': 'non-fiction',\n",
    "    'yellow-fever': 'non-fiction',\n",
    "    'biographies': 'non-fiction',\n",
    "    'mathematics': 'non-fiction',\n",
    "    'biography-memoir': 'non-fiction',\n",
    "    'math': 'non-fiction',\n",
    "    'economics': 'non-fiction',\n",
    "    'memoir-biography': 'non-fiction',\n",
    "    'bio': 'non-fiction',\n",
    "    'biography-autobiography': 'non-fiction',\n",
    "    'memoirs': 'non-fiction',\n",
    "    'schizophrenia': 'non-fiction',\n",
    "    'biographies-memoirs': 'non-fiction',\n",
    "    'biographical': 'non-fiction',\n",
    "    'biography-and-memoir': 'non-fiction',\n",
    "    'maths': 'non-fiction',\n",
    "    'math-concepts': 'non-fiction',\n",
    "    'counting': 'non-fiction',\n",
    "    'autobiography': 'non-fiction',\n",
    "    'history-biography': 'non-fiction',\n",
    "    'bio-memoir': 'non-fiction',\n",
    "    'memoir-autobiography': 'non-fiction',\n",
    "    'essays': 'non-fiction',\n",
    "    'self-help': 'non-fiction',\n",
    "    'creative-nonfiction': 'non-fiction',\n",
    "    'culture': 'non-fiction',\n",
    "    'artificial-intelligence': 'non-fiction',\n",
    "    'slavery': 'non-fiction',\n",
    "    'feminism': 'non-fiction',\n",
    "    'victorian': 'non-fiction',\n",
    "    'spring': 'non-fiction',\n",
    "    'gardening': 'non-fiction',\n",
    "    'garden': 'non-fiction',\n",
    "    'environment': 'non-fiction',\n",
    "    'cancer': 'non-fiction',\n",
    "    'graphic-memoir': 'non-fiction',\n",
    "    'art': 'non-fiction',\n",
    "    'sports': 'non-fiction',\n",
    "    'realistic': 'non-fiction',\n",
    "    'forensic': 'non-fiction',\n",
    "    'forensics': 'non-fiction',\n",
    "    'forensic-science': 'non-fiction',\n",
    "    'anthropology': 'non-fiction',\n",
    "    'education': 'non-fiction',\n",
    "    'learning': 'non-fiction'\n",
    "}"
   ]
  },
  {
   "cell_type": "code",
   "execution_count": 63,
   "metadata": {},
   "outputs": [],
   "source": [
    "# applying the second filter\n",
    "clean_genre['filt_genre'] = clean_genre.genre.map(genre_dict)"
   ]
  },
  {
   "cell_type": "code",
   "execution_count": 64,
   "metadata": {},
   "outputs": [
    {
     "data": {
      "text/html": [
       "<div>\n",
       "<style scoped>\n",
       "    .dataframe tbody tr th:only-of-type {\n",
       "        vertical-align: middle;\n",
       "    }\n",
       "\n",
       "    .dataframe tbody tr th {\n",
       "        vertical-align: top;\n",
       "    }\n",
       "\n",
       "    .dataframe thead th {\n",
       "        text-align: right;\n",
       "    }\n",
       "</style>\n",
       "<table border=\"1\" class=\"dataframe\">\n",
       "  <thead>\n",
       "    <tr style=\"text-align: right;\">\n",
       "      <th></th>\n",
       "      <th>counts</th>\n",
       "      <th>genre</th>\n",
       "      <th>filt_genre</th>\n",
       "    </tr>\n",
       "  </thead>\n",
       "  <tbody>\n",
       "    <tr>\n",
       "      <th>0</th>\n",
       "      <td>18033</td>\n",
       "      <td>young-adult</td>\n",
       "      <td>NaN</td>\n",
       "    </tr>\n",
       "    <tr>\n",
       "      <th>1</th>\n",
       "      <td>16141</td>\n",
       "      <td>fantasy</td>\n",
       "      <td>fantasy</td>\n",
       "    </tr>\n",
       "    <tr>\n",
       "      <th>2</th>\n",
       "      <td>10048</td>\n",
       "      <td>romance</td>\n",
       "      <td>romance</td>\n",
       "    </tr>\n",
       "    <tr>\n",
       "      <th>3</th>\n",
       "      <td>7612</td>\n",
       "      <td>vampires</td>\n",
       "      <td>fantasy</td>\n",
       "    </tr>\n",
       "    <tr>\n",
       "      <th>4</th>\n",
       "      <td>7256</td>\n",
       "      <td>ya</td>\n",
       "      <td>NaN</td>\n",
       "    </tr>\n",
       "    <tr>\n",
       "      <th>5</th>\n",
       "      <td>7000</td>\n",
       "      <td>fiction</td>\n",
       "      <td>fiction</td>\n",
       "    </tr>\n",
       "    <tr>\n",
       "      <th>6</th>\n",
       "      <td>5551</td>\n",
       "      <td>paranormal</td>\n",
       "      <td>fantasy</td>\n",
       "    </tr>\n",
       "    <tr>\n",
       "      <th>7</th>\n",
       "      <td>2831</td>\n",
       "      <td>vampire</td>\n",
       "      <td>fantasy</td>\n",
       "    </tr>\n",
       "    <tr>\n",
       "      <th>8</th>\n",
       "      <td>2619</td>\n",
       "      <td>twilight</td>\n",
       "      <td>NaN</td>\n",
       "    </tr>\n",
       "    <tr>\n",
       "      <th>9</th>\n",
       "      <td>2123</td>\n",
       "      <td>paranormal-romance</td>\n",
       "      <td>romance</td>\n",
       "    </tr>\n",
       "    <tr>\n",
       "      <th>10</th>\n",
       "      <td>1901</td>\n",
       "      <td>supernatural</td>\n",
       "      <td>fantasy</td>\n",
       "    </tr>\n",
       "    <tr>\n",
       "      <th>11</th>\n",
       "      <td>1469</td>\n",
       "      <td>teen</td>\n",
       "      <td>NaN</td>\n",
       "    </tr>\n",
       "    <tr>\n",
       "      <th>12</th>\n",
       "      <td>1402</td>\n",
       "      <td>urban-fantasy</td>\n",
       "      <td>fantasy</td>\n",
       "    </tr>\n",
       "    <tr>\n",
       "      <th>13</th>\n",
       "      <td>1077</td>\n",
       "      <td>stephenie-meyer</td>\n",
       "      <td>NaN</td>\n",
       "    </tr>\n",
       "    <tr>\n",
       "      <th>14</th>\n",
       "      <td>827</td>\n",
       "      <td>werewolves</td>\n",
       "      <td>fantasy</td>\n",
       "    </tr>\n",
       "    <tr>\n",
       "      <th>15</th>\n",
       "      <td>701</td>\n",
       "      <td>ya-fiction</td>\n",
       "      <td>fiction</td>\n",
       "    </tr>\n",
       "    <tr>\n",
       "      <th>16</th>\n",
       "      <td>619</td>\n",
       "      <td>twilight-saga</td>\n",
       "      <td>NaN</td>\n",
       "    </tr>\n",
       "    <tr>\n",
       "      <th>17</th>\n",
       "      <td>583</td>\n",
       "      <td>ya-fantasy</td>\n",
       "      <td>fantasy</td>\n",
       "    </tr>\n",
       "    <tr>\n",
       "      <th>18</th>\n",
       "      <td>579</td>\n",
       "      <td>contemporary</td>\n",
       "      <td>non-fiction</td>\n",
       "    </tr>\n",
       "    <tr>\n",
       "      <th>19</th>\n",
       "      <td>577</td>\n",
       "      <td>young-adult-fiction</td>\n",
       "      <td>fiction</td>\n",
       "    </tr>\n",
       "  </tbody>\n",
       "</table>\n",
       "</div>"
      ],
      "text/plain": [
       "   counts                genre   filt_genre\n",
       "0   18033          young-adult          NaN\n",
       "1   16141              fantasy      fantasy\n",
       "2   10048              romance      romance\n",
       "3    7612             vampires      fantasy\n",
       "4    7256                   ya          NaN\n",
       "5    7000              fiction      fiction\n",
       "6    5551           paranormal      fantasy\n",
       "7    2831              vampire      fantasy\n",
       "8    2619             twilight          NaN\n",
       "9    2123   paranormal-romance      romance\n",
       "10   1901         supernatural      fantasy\n",
       "11   1469                 teen          NaN\n",
       "12   1402        urban-fantasy      fantasy\n",
       "13   1077      stephenie-meyer          NaN\n",
       "14    827           werewolves      fantasy\n",
       "15    701           ya-fiction      fiction\n",
       "16    619        twilight-saga          NaN\n",
       "17    583           ya-fantasy      fantasy\n",
       "18    579         contemporary  non-fiction\n",
       "19    577  young-adult-fiction      fiction"
      ]
     },
     "execution_count": 64,
     "metadata": {},
     "output_type": "execute_result"
    }
   ],
   "source": [
    "clean_genre.head(20)"
   ]
  },
  {
   "cell_type": "code",
   "execution_count": 65,
   "metadata": {},
   "outputs": [
    {
     "data": {
      "text/plain": [
       "(40, 3)"
      ]
     },
     "execution_count": 65,
     "metadata": {},
     "output_type": "execute_result"
    }
   ],
   "source": [
    "clean_genre.shape"
   ]
  },
  {
   "cell_type": "code",
   "execution_count": 66,
   "metadata": {},
   "outputs": [],
   "source": [
    "# removing anything that does not fit in the book genres I have identified\n",
    "clean_genre = clean_genre.dropna()\n",
    "clean_genre = clean_genre.drop('genre', axis='columns')\n",
    "clean_genre.head()"
   ]
  },
  {
   "cell_type": "code",
   "execution_count": 69,
   "metadata": {},
   "outputs": [
    {
     "data": {
      "text/plain": [
       "(28, 2)"
      ]
     },
     "execution_count": 69,
     "metadata": {},
     "output_type": "execute_result"
    }
   ],
   "source": [
    "clean_genre.shape"
   ]
  },
  {
   "cell_type": "code",
   "execution_count": 70,
   "metadata": {},
   "outputs": [],
   "source": [
    "# changing the data type so I can use groupby\n",
    "clean_genre['counts'] = clean_genre.counts.astype(int)"
   ]
  },
  {
   "cell_type": "code",
   "execution_count": 71,
   "metadata": {},
   "outputs": [
    {
     "data": {
      "text/html": [
       "<div>\n",
       "<style scoped>\n",
       "    .dataframe tbody tr th:only-of-type {\n",
       "        vertical-align: middle;\n",
       "    }\n",
       "\n",
       "    .dataframe tbody tr th {\n",
       "        vertical-align: top;\n",
       "    }\n",
       "\n",
       "    .dataframe thead th {\n",
       "        text-align: right;\n",
       "    }\n",
       "</style>\n",
       "<table border=\"1\" class=\"dataframe\">\n",
       "  <thead>\n",
       "    <tr style=\"text-align: right;\">\n",
       "      <th></th>\n",
       "      <th>counts</th>\n",
       "    </tr>\n",
       "    <tr>\n",
       "      <th>filt_genre</th>\n",
       "      <th></th>\n",
       "    </tr>\n",
       "  </thead>\n",
       "  <tbody>\n",
       "    <tr>\n",
       "      <th>fantasy</th>\n",
       "      <td>38288</td>\n",
       "    </tr>\n",
       "    <tr>\n",
       "      <th>fiction</th>\n",
       "      <td>9167</td>\n",
       "    </tr>\n",
       "    <tr>\n",
       "      <th>non-fiction</th>\n",
       "      <td>579</td>\n",
       "    </tr>\n",
       "    <tr>\n",
       "      <th>romance</th>\n",
       "      <td>13376</td>\n",
       "    </tr>\n",
       "    <tr>\n",
       "      <th>science-fiction</th>\n",
       "      <td>1062</td>\n",
       "    </tr>\n",
       "  </tbody>\n",
       "</table>\n",
       "</div>"
      ],
      "text/plain": [
       "                 counts\n",
       "filt_genre             \n",
       "fantasy           38288\n",
       "fiction            9167\n",
       "non-fiction         579\n",
       "romance           13376\n",
       "science-fiction    1062"
      ]
     },
     "execution_count": 71,
     "metadata": {},
     "output_type": "execute_result"
    }
   ],
   "source": [
    "# adding up all the counts for each genre\n",
    "clean_genre.groupby('filt_genre').sum()"
   ]
  },
  {
   "cell_type": "code",
   "execution_count": 72,
   "metadata": {},
   "outputs": [
    {
     "data": {
      "text/plain": [
       "counts    62472\n",
       "dtype: int64"
      ]
     },
     "execution_count": 72,
     "metadata": {},
     "output_type": "execute_result"
    }
   ],
   "source": [
    "# total counts:\n",
    "clean_genre.groupby('filt_genre').sum().sum()"
   ]
  },
  {
   "cell_type": "code",
   "execution_count": 73,
   "metadata": {},
   "outputs": [
    {
     "data": {
      "text/html": [
       "<div>\n",
       "<style scoped>\n",
       "    .dataframe tbody tr th:only-of-type {\n",
       "        vertical-align: middle;\n",
       "    }\n",
       "\n",
       "    .dataframe tbody tr th {\n",
       "        vertical-align: top;\n",
       "    }\n",
       "\n",
       "    .dataframe thead th {\n",
       "        text-align: right;\n",
       "    }\n",
       "</style>\n",
       "<table border=\"1\" class=\"dataframe\">\n",
       "  <thead>\n",
       "    <tr style=\"text-align: right;\">\n",
       "      <th></th>\n",
       "      <th>counts</th>\n",
       "    </tr>\n",
       "    <tr>\n",
       "      <th>filt_genre</th>\n",
       "      <th></th>\n",
       "    </tr>\n",
       "  </thead>\n",
       "  <tbody>\n",
       "    <tr>\n",
       "      <th>fantasy</th>\n",
       "      <td>0.612883</td>\n",
       "    </tr>\n",
       "    <tr>\n",
       "      <th>romance</th>\n",
       "      <td>0.214112</td>\n",
       "    </tr>\n",
       "    <tr>\n",
       "      <th>fiction</th>\n",
       "      <td>0.146738</td>\n",
       "    </tr>\n",
       "    <tr>\n",
       "      <th>science-fiction</th>\n",
       "      <td>0.017000</td>\n",
       "    </tr>\n",
       "    <tr>\n",
       "      <th>non-fiction</th>\n",
       "      <td>0.009268</td>\n",
       "    </tr>\n",
       "  </tbody>\n",
       "</table>\n",
       "</div>"
      ],
      "text/plain": [
       "                   counts\n",
       "filt_genre               \n",
       "fantasy          0.612883\n",
       "romance          0.214112\n",
       "fiction          0.146738\n",
       "science-fiction  0.017000\n",
       "non-fiction      0.009268"
      ]
     },
     "execution_count": 73,
     "metadata": {},
     "output_type": "execute_result"
    }
   ],
   "source": [
    "# calculating the fraction of total counts each genre corresponds to\n",
    "(clean_genre.groupby('filt_genre').sum() / clean_genre.groupby('filt_genre').sum().sum()).sort_values(by='counts', ascending=False)"
   ]
  },
  {
   "cell_type": "code",
   "execution_count": 74,
   "metadata": {
    "scrolled": true
   },
   "outputs": [
    {
     "data": {
      "image/png": "[encoded data removed]",
      "text/plain": [
       "<Figure size 360x288 with 1 Axes>"
      ]
     },
     "metadata": {
      "needs_background": "light"
     },
     "output_type": "display_data"
    }
   ],
   "source": [
    "# visualising the fraction of total counts each genre corresponds to\n",
    "total = clean_genre.groupby('filt_genre').sum().sum()\n",
    "_ = (\n",
    "    clean_genre\n",
    "    .groupby('filt_genre')\n",
    "    .sum() / total).sort_values(by='counts', ascending=True)\\\n",
    "    .plot(kind='barh', figsize=(5,4)\n",
    "    )"
   ]
  },
  {
   "cell_type": "markdown",
   "metadata": {},
   "source": [
    "I will set a threshold of 0.25 to assign main genres (note that this is arbitrary)"
   ]
  },
  {
   "cell_type": "code",
   "execution_count": 76,
   "metadata": {},
   "outputs": [],
   "source": [
    "# combine all the steps above to create a function\n",
    "def extract_book_genre_info(entry):\n",
    "    genre_info = pd.DataFrame(eval(entry))\n",
    "    genre_info.rename(columns={'@count': 'counts', '@name': 'genre'}, inplace=True)\n",
    "    search_pattern = '|'.join(genre_filter)\n",
    "    m_bad_genres = genre_info.genre.str.contains(search_pattern)\n",
    "    clean_genre = genre_info[~ m_bad_genres].copy()\n",
    "\n",
    "    clean_genre.reset_index(drop=True, inplace=True)\n",
    "    clean_genre['filt_genre'] = clean_genre.genre.map(genre_dict)\n",
    "    clean_genre['counts'] = clean_genre.counts.astype(int)\n",
    "\n",
    "    total = clean_genre.groupby('filt_genre').sum().sum()\n",
    "    counts_df = (clean_genre.groupby('filt_genre').sum() / total).sort_values(by='counts')\n",
    "    book_genre = [i for i in counts_df[counts_df.counts > 0.25].index]\n",
    "    return book_genre"
   ]
  },
  {
   "cell_type": "code",
   "execution_count": 77,
   "metadata": {},
   "outputs": [],
   "source": [
    "goodreads_ids_genres = goodreads_ids_genres.drop(index=566, axis=0)\n",
    "goodreads_ids_genres = goodreads_ids_genres.reset_index(drop=True)"
   ]
  },
  {
   "cell_type": "code",
   "execution_count": 78,
   "metadata": {},
   "outputs": [],
   "source": [
    "shelves = goodreads_ids_genres.goodreads_shelves"
   ]
  },
  {
   "cell_type": "code",
   "execution_count": 79,
   "metadata": {},
   "outputs": [],
   "source": [
    "# apply the function to the full dataset\n",
    "goodreads_ids_genres['book_genres'] = shelves.map(extract_book_genre_info)\n",
    "goodreads_ids_genres.head()"
   ]
  },
  {
   "cell_type": "code",
   "execution_count": 81,
   "metadata": {},
   "outputs": [],
   "source": [
    "# saving the dataframe for future use\n",
    "goodreads_ids_genres.to_csv(CLEAN_BOOK_GENRES_PATH, index=False)"
   ]
  }
 ],
 "metadata": {
  "kernelspec": {
   "display_name": "Python 3",
   "language": "python",
   "name": "python3"
  },
  "language_info": {
   "codemirror_mode": {
    "name": "ipython",
    "version": 3
   },
   "file_extension": ".py",
   "mimetype": "text/x-python",
   "name": "python",
   "nbconvert_exporter": "python",
   "pygments_lexer": "ipython3",
   "version": "3.6.8"
  }
 },
 "nbformat": 4,
 "nbformat_minor": 2
}
