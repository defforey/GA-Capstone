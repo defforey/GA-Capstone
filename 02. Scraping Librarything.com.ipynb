{
 "cells": [
  {
   "cell_type": "markdown",
   "metadata": {},
   "source": [
    "<img src=\"http://imgur.com/1ZcRyrc.png\" style=\"float: left; margin: 20px; height: 55px\">\n",
    "\n",
    "#  Book Reviews Capstone Project: Web Scraping\n",
    "\n",
    "\n",
    "*Delphine Defforey*\n",
    "\n",
    "___\n"
   ]
  },
  {
   "cell_type": "markdown",
   "metadata": {},
   "source": [
    "<font color=navy>\n",
    "    The purpose of this notebook is to scrape the LibraryThing website for additional information on books. The dataset in the first notebook does not contain book titles, author names or ISBSNs, which I need for my analysis. In this notebook, I collect additional information for a subset of the 5000 books with the most reviews. Having the ISBNs for these books will allow me to get book genre information from the Goodreads API (see notebook #3 for more details).\n",
    "    </font>"
   ]
  },
  {
   "cell_type": "markdown",
   "metadata": {},
   "source": [
    "### Imports and Settings"
   ]
  },
  {
   "cell_type": "code",
   "execution_count": 1,
   "metadata": {},
   "outputs": [],
   "source": [
    "import numpy as np\n",
    "import pandas as pd\n",
    "import matplotlib.pyplot as plt\n",
    "import seaborn as sns\n",
    "\n",
    "import time\n",
    "from requests import get\n",
    "from requests.exceptions import RequestException\n",
    "from contextlib import closing\n",
    "from bs4 import BeautifulSoup\n",
    "from tqdm import tqdm_notebook\n",
    "\n",
    "import csv\n",
    "import datetime"
   ]
  },
  {
   "cell_type": "code",
   "execution_count": 2,
   "metadata": {},
   "outputs": [],
   "source": [
    "plt.style.use('ggplot')\n",
    "sns.set(font_scale=1.5)\n",
    "%matplotlib inline\n",
    "%config InlineBackend.figure_format = 'retina'"
   ]
  },
  {
   "cell_type": "markdown",
   "metadata": {},
   "source": [
    "### Configs"
   ]
  },
  {
   "cell_type": "code",
   "execution_count": 3,
   "metadata": {},
   "outputs": [],
   "source": [
    "raw_html_out_folder = '/Users/ddefforey1/work/capstone_datasets'\n",
    "top_5K_most_reviewed_books_path = '/Users/ddefforey1/work/capstone_datasets/top_5K_books.csv'\n",
    "raw_book_info_path = '/Users/ddefforey1/work/capstone_datasets/raw_book_info.csv'\n",
    "cleaner_book_info_path = '/Users/ddefforey1/work/capstone_datasets/cleaner_book_info2.csv'\n",
    "missing_ibns_path = '/Users/ddefforey1/work/capstone_datasets/missing_isbns.csv'"
   ]
  },
  {
   "cell_type": "markdown",
   "metadata": {},
   "source": [
    "### Web Requests and Writing Output to a CSV"
   ]
  },
  {
   "cell_type": "code",
   "execution_count": 4,
   "metadata": {},
   "outputs": [],
   "source": [
    "def simple_get(url):\n",
    "    \"\"\"\n",
    "    Attempts to get the content at `url` by making an HTTP GET request.\n",
    "    If the content-type of response is some kind of HTML/XML, return the\n",
    "    text, otherwise return None.\n",
    "    \"\"\"\n",
    "    try:\n",
    "        with closing(get(url)) as resp:\n",
    "            if is_good_response(resp):\n",
    "                return resp.text\n",
    "            else:\n",
    "                return None\n",
    "\n",
    "    except RequestException as e:\n",
    "        print('Error during requests to {0} : {1}'.format(url, str(e)))\n",
    "        return None\n",
    "\n",
    "\n",
    "def is_good_response(resp):\n",
    "    \"\"\"\n",
    "    Returns True if the response seems to be HTML, False otherwise.\n",
    "    \"\"\"\n",
    "    content_type = resp.headers['Content-Type'].lower()\n",
    "    return (resp.status_code == 200 \n",
    "            and content_type is not None \n",
    "            and content_type.find('html') > -1)\n"
   ]
  },
  {
   "cell_type": "code",
   "execution_count": 5,
   "metadata": {},
   "outputs": [],
   "source": [
    "# importing the book ids for 5K books with the most reviews\n",
    "top_5K_books = pd.read_csv(top_5K_most_reviewed_books_path)"
   ]
  },
  {
   "cell_type": "code",
   "execution_count": 6,
   "metadata": {},
   "outputs": [
    {
     "data": {
      "text/html": [
       "<div>\n",
       "<style scoped>\n",
       "    .dataframe tbody tr th:only-of-type {\n",
       "        vertical-align: middle;\n",
       "    }\n",
       "\n",
       "    .dataframe tbody tr th {\n",
       "        vertical-align: top;\n",
       "    }\n",
       "\n",
       "    .dataframe thead th {\n",
       "        text-align: right;\n",
       "    }\n",
       "</style>\n",
       "<table border=\"1\" class=\"dataframe\">\n",
       "  <thead>\n",
       "    <tr style=\"text-align: right;\">\n",
       "      <th></th>\n",
       "      <th>book_id</th>\n",
       "      <th>n_comments</th>\n",
       "    </tr>\n",
       "  </thead>\n",
       "  <tbody>\n",
       "    <tr>\n",
       "      <th>0</th>\n",
       "      <td>4979986</td>\n",
       "      <td>2255</td>\n",
       "    </tr>\n",
       "    <tr>\n",
       "      <th>1</th>\n",
       "      <td>8384326</td>\n",
       "      <td>1661</td>\n",
       "    </tr>\n",
       "    <tr>\n",
       "      <th>2</th>\n",
       "      <td>1541442</td>\n",
       "      <td>1232</td>\n",
       "    </tr>\n",
       "    <tr>\n",
       "      <th>3</th>\n",
       "      <td>393681</td>\n",
       "      <td>1139</td>\n",
       "    </tr>\n",
       "    <tr>\n",
       "      <th>4</th>\n",
       "      <td>8662515</td>\n",
       "      <td>1098</td>\n",
       "    </tr>\n",
       "  </tbody>\n",
       "</table>\n",
       "</div>"
      ],
      "text/plain": [
       "   book_id  n_comments\n",
       "0  4979986        2255\n",
       "1  8384326        1661\n",
       "2  1541442        1232\n",
       "3   393681        1139\n",
       "4  8662515        1098"
      ]
     },
     "execution_count": 6,
     "metadata": {},
     "output_type": "execute_result"
    }
   ],
   "source": [
    "top_5K_books.head()"
   ]
  },
  {
   "cell_type": "code",
   "execution_count": 7,
   "metadata": {},
   "outputs": [],
   "source": [
    "# make a list of book IDs\n",
    "books_list = list(top_5K_books.book_id)"
   ]
  },
  {
   "cell_type": "code",
   "execution_count": 10,
   "metadata": {},
   "outputs": [
    {
     "data": {
      "application/vnd.jupyter.widget-view+json": {
       "model_id": "3c64e1c78dfe4024b8dc4e6346c360d1",
       "version_major": 2,
       "version_minor": 0
      },
      "text/plain": [
       "HBox(children=(IntProgress(value=0, max=5000), HTML(value='')))"
      ]
     },
     "metadata": {},
     "output_type": "display_data"
    },
    {
     "name": "stdout",
     "output_type": "stream",
     "text": [
      "\n"
     ]
    }
   ],
   "source": [
    "# writing scraped hmtls to a csv\n",
    "# uses date-time stamps to avoid accidentally overwriting files\n",
    "# one second pause added at the end of each loop to avoid getting blocked\n",
    "\n",
    "failed_book_ids = []\n",
    "\n",
    "timestamp = datetime.datetime.now().strftime('%y-%m-%dT%H:%M:%S')\n",
    "raw_htmls_path = f'{raw_html_out_folder}/scraped_raw_html_librarything_{timestamp}.csv'\n",
    "with open(raw_htmls_path, 'w') as csv_file:\n",
    "    fieldnames = ['book_id', 'raw_html']\n",
    "    writer = csv.DictWriter(csv_file, fieldnames=fieldnames)\n",
    "    writer.writeheader()\n",
    "\n",
    "    # scrape book info!\n",
    "    for book_id in tqdm_notebook(books_list):\n",
    "        url = 'https://www.librarything.com/work/{}'.format(book_id)\n",
    "        scraped_raw_html = simple_get(url)        \n",
    "        if scraped_raw_html is not None:\n",
    "            writer.writerow({'book_id': book_id, 'raw_html': scraped_raw_html})\n",
    "        else:\n",
    "            failed_book_ids.append(book_id)\n",
    "        time.sleep(1)"
   ]
  },
  {
   "cell_type": "code",
   "execution_count": 11,
   "metadata": {},
   "outputs": [
    {
     "data": {
      "text/plain": [
       "[]"
      ]
     },
     "execution_count": 11,
     "metadata": {},
     "output_type": "execute_result"
    }
   ],
   "source": [
    "# checking if there were any pages that weren't scrapped properly\n",
    "failed_book_ids"
   ]
  },
  {
   "cell_type": "markdown",
   "metadata": {},
   "source": [
    "### Parsing Data with BeautifulSoup"
   ]
  },
  {
   "cell_type": "code",
   "execution_count": 12,
   "metadata": {},
   "outputs": [],
   "source": [
    "raw_htmls_path = '/Users/ddefforey1/work/capstone_datasets/scraped_raw_html_librarything_19-05-02T13:40:13.csv'"
   ]
  },
  {
   "cell_type": "code",
   "execution_count": 13,
   "metadata": {},
   "outputs": [],
   "source": [
    "# loading the csv containing the raw htmls\n",
    "raw_data = pd.read_csv(raw_htmls_path)"
   ]
  },
  {
   "cell_type": "code",
   "execution_count": 14,
   "metadata": {
    "scrolled": false
   },
   "outputs": [
    {
     "data": {
      "text/html": [
       "<div>\n",
       "<style scoped>\n",
       "    .dataframe tbody tr th:only-of-type {\n",
       "        vertical-align: middle;\n",
       "    }\n",
       "\n",
       "    .dataframe tbody tr th {\n",
       "        vertical-align: top;\n",
       "    }\n",
       "\n",
       "    .dataframe thead th {\n",
       "        text-align: right;\n",
       "    }\n",
       "</style>\n",
       "<table border=\"1\" class=\"dataframe\">\n",
       "  <thead>\n",
       "    <tr style=\"text-align: right;\">\n",
       "      <th></th>\n",
       "      <th>book_id</th>\n",
       "      <th>raw_html</th>\n",
       "    </tr>\n",
       "  </thead>\n",
       "  <tbody>\n",
       "    <tr>\n",
       "      <th>0</th>\n",
       "      <td>4979986</td>\n",
       "      <td>&lt;!DOCTYPE html&gt;&lt;html&gt;\\n&lt;head&gt;&lt;title&gt;The Hunger...</td>\n",
       "    </tr>\n",
       "    <tr>\n",
       "      <th>1</th>\n",
       "      <td>8384326</td>\n",
       "      <td>&lt;!DOCTYPE html&gt;&lt;html&gt;\\n&lt;head&gt;&lt;title&gt;Twilight b...</td>\n",
       "    </tr>\n",
       "    <tr>\n",
       "      <th>2</th>\n",
       "      <td>1541442</td>\n",
       "      <td>&lt;!DOCTYPE html&gt;&lt;html&gt;\\n&lt;head&gt;&lt;title&gt;The Girl w...</td>\n",
       "    </tr>\n",
       "    <tr>\n",
       "      <th>3</th>\n",
       "      <td>393681</td>\n",
       "      <td>&lt;!DOCTYPE html&gt;&lt;html&gt;\\n&lt;head&gt;&lt;title&gt;The Book T...</td>\n",
       "    </tr>\n",
       "    <tr>\n",
       "      <th>4</th>\n",
       "      <td>8662515</td>\n",
       "      <td>&lt;!DOCTYPE html&gt;&lt;html&gt;\\n&lt;head&gt;&lt;title&gt;Catching F...</td>\n",
       "    </tr>\n",
       "  </tbody>\n",
       "</table>\n",
       "</div>"
      ],
      "text/plain": [
       "   book_id                                           raw_html\n",
       "0  4979986  <!DOCTYPE html><html>\\n<head><title>The Hunger...\n",
       "1  8384326  <!DOCTYPE html><html>\\n<head><title>Twilight b...\n",
       "2  1541442  <!DOCTYPE html><html>\\n<head><title>The Girl w...\n",
       "3   393681  <!DOCTYPE html><html>\\n<head><title>The Book T...\n",
       "4  8662515  <!DOCTYPE html><html>\\n<head><title>Catching F..."
      ]
     },
     "execution_count": 14,
     "metadata": {},
     "output_type": "execute_result"
    }
   ],
   "source": [
    "raw_data.head()"
   ]
  },
  {
   "cell_type": "code",
   "execution_count": 15,
   "metadata": {
    "scrolled": true
   },
   "outputs": [
    {
     "data": {
      "text/plain": [
       "(5000, 2)"
      ]
     },
     "execution_count": 15,
     "metadata": {},
     "output_type": "execute_result"
    }
   ],
   "source": [
    "raw_data.shape"
   ]
  },
  {
   "cell_type": "code",
   "execution_count": 16,
   "metadata": {},
   "outputs": [],
   "source": [
    "def extract_book_title(entry):\n",
    "    \"\"\" \n",
    "    Returns a book title for a given html\n",
    "    \"\"\"\n",
    "    try:\n",
    "        return entry.find('div', attrs={'class':'headsummary'}).find('h1').text.strip()\n",
    "    except:\n",
    "        return np.nan"
   ]
  },
  {
   "cell_type": "code",
   "execution_count": 17,
   "metadata": {},
   "outputs": [],
   "source": [
    "def extract_book_author(entry):\n",
    "    \"\"\" \n",
    "    Returns the name of the author of a book for a given html\n",
    "    \"\"\"\n",
    "    try:\n",
    "        return entry.find('div', attrs={'class':'headsummary'}).find('h2').text.strip().replace('by ','')\n",
    "    except:\n",
    "        return np.nan"
   ]
  },
  {
   "cell_type": "code",
   "execution_count": 18,
   "metadata": {},
   "outputs": [],
   "source": [
    "def extract_book_isbn(entry):\n",
    "    \"\"\" \n",
    "    Returns a book's International Standard Book Number (ISBN) for a given html\n",
    "    \"\"\"\n",
    "    try:\n",
    "        return entry.find('div', attrs={'class':'description'}).find('h4').text.strip()\n",
    "    except:\n",
    "        return np.nan"
   ]
  },
  {
   "cell_type": "code",
   "execution_count": 19,
   "metadata": {},
   "outputs": [],
   "source": [
    "def extract_book_details(entry):\n",
    "    \"\"\"\n",
    "    Passes entry into BeautifulSoup, then passes the output into three functions that extract book titles,\n",
    "    author names and ISBNs from each html. The function returns a pandas series with these three book attributes.\n",
    "    \"\"\"\n",
    "    soup = BeautifulSoup(entry, 'html.parser')\n",
    "    title = extract_book_title(soup)\n",
    "    author = extract_book_author(soup)\n",
    "    isbn = extract_book_isbn(soup)\n",
    "    return pd.Series([title,author,isbn], index=['book_title', 'author', 'isbn'])"
   ]
  },
  {
   "cell_type": "code",
   "execution_count": 20,
   "metadata": {},
   "outputs": [],
   "source": [
    "book_info = raw_data.raw_html.apply(extract_book_details)"
   ]
  },
  {
   "cell_type": "code",
   "execution_count": 21,
   "metadata": {},
   "outputs": [],
   "source": [
    "# saving a copy of the raw book information after it was parsed\n",
    "book_info.to_csv(raw_book_info_path, index=False)"
   ]
  },
  {
   "cell_type": "code",
   "execution_count": 22,
   "metadata": {},
   "outputs": [],
   "source": [
    "book_info = pd.read_csv(raw_book_info_path)"
   ]
  },
  {
   "cell_type": "code",
   "execution_count": 23,
   "metadata": {},
   "outputs": [
    {
     "data": {
      "text/html": [
       "<div>\n",
       "<style scoped>\n",
       "    .dataframe tbody tr th:only-of-type {\n",
       "        vertical-align: middle;\n",
       "    }\n",
       "\n",
       "    .dataframe tbody tr th {\n",
       "        vertical-align: top;\n",
       "    }\n",
       "\n",
       "    .dataframe thead th {\n",
       "        text-align: right;\n",
       "    }\n",
       "</style>\n",
       "<table border=\"1\" class=\"dataframe\">\n",
       "  <thead>\n",
       "    <tr style=\"text-align: right;\">\n",
       "      <th></th>\n",
       "      <th>book_title</th>\n",
       "      <th>author</th>\n",
       "      <th>isbn</th>\n",
       "    </tr>\n",
       "  </thead>\n",
       "  <tbody>\n",
       "    <tr>\n",
       "      <th>0</th>\n",
       "      <td>The Hunger Games</td>\n",
       "      <td>Suzanne Collins</td>\n",
       "      <td>Amazon.com Product Description (ISBN 043902348...</td>\n",
       "    </tr>\n",
       "    <tr>\n",
       "      <th>1</th>\n",
       "      <td>Twilight (2005)</td>\n",
       "      <td>Stephenie Meyer</td>\n",
       "      <td>Amazon.com Amazon.com Review (ISBN 0316015849,...</td>\n",
       "    </tr>\n",
       "    <tr>\n",
       "      <th>2</th>\n",
       "      <td>The Girl with the Dragon Tattoo (2005)</td>\n",
       "      <td>Stieg Larsson</td>\n",
       "      <td>Amazon.com Amazon.com Review (ISBN 0307454541,...</td>\n",
       "    </tr>\n",
       "    <tr>\n",
       "      <th>3</th>\n",
       "      <td>The Book Thief (2007)</td>\n",
       "      <td>Markus Zusak</td>\n",
       "      <td>Amazon.com Product Description (ISBN 037584220...</td>\n",
       "    </tr>\n",
       "    <tr>\n",
       "      <th>4</th>\n",
       "      <td>Catching Fire</td>\n",
       "      <td>Suzanne Collins</td>\n",
       "      <td>Amazon.com Product Description (ISBN 043902349...</td>\n",
       "    </tr>\n",
       "  </tbody>\n",
       "</table>\n",
       "</div>"
      ],
      "text/plain": [
       "                               book_title           author  \\\n",
       "0                        The Hunger Games  Suzanne Collins   \n",
       "1                         Twilight (2005)  Stephenie Meyer   \n",
       "2  The Girl with the Dragon Tattoo (2005)    Stieg Larsson   \n",
       "3                   The Book Thief (2007)     Markus Zusak   \n",
       "4                           Catching Fire  Suzanne Collins   \n",
       "\n",
       "                                                isbn  \n",
       "0  Amazon.com Product Description (ISBN 043902348...  \n",
       "1  Amazon.com Amazon.com Review (ISBN 0316015849,...  \n",
       "2  Amazon.com Amazon.com Review (ISBN 0307454541,...  \n",
       "3  Amazon.com Product Description (ISBN 037584220...  \n",
       "4  Amazon.com Product Description (ISBN 043902349...  "
      ]
     },
     "execution_count": 23,
     "metadata": {},
     "output_type": "execute_result"
    }
   ],
   "source": [
    "book_info.head()"
   ]
  },
  {
   "cell_type": "code",
   "execution_count": 24,
   "metadata": {},
   "outputs": [
    {
     "data": {
      "text/plain": [
       "(5000, 3)"
      ]
     },
     "execution_count": 24,
     "metadata": {},
     "output_type": "execute_result"
    }
   ],
   "source": [
    "book_info.shape"
   ]
  },
  {
   "cell_type": "code",
   "execution_count": 25,
   "metadata": {},
   "outputs": [
    {
     "data": {
      "text/plain": [
       "book_title       0\n",
       "author           1\n",
       "isbn          1363\n",
       "dtype: int64"
      ]
     },
     "execution_count": 25,
     "metadata": {},
     "output_type": "execute_result"
    }
   ],
   "source": [
    "# checking for missing values\n",
    "book_info.isnull().sum()"
   ]
  },
  {
   "cell_type": "code",
   "execution_count": 26,
   "metadata": {},
   "outputs": [],
   "source": [
    "# using a regex to extract ISBN numbers\n",
    "book_info['isbn'] = book_info.isbn.str.extract(r'ISBN (\\d+)\\D', expand=False)"
   ]
  },
  {
   "cell_type": "code",
   "execution_count": 27,
   "metadata": {},
   "outputs": [],
   "source": [
    "book_info['id'] = books_list"
   ]
  },
  {
   "cell_type": "code",
   "execution_count": 28,
   "metadata": {},
   "outputs": [
    {
     "data": {
      "text/html": [
       "<div>\n",
       "<style scoped>\n",
       "    .dataframe tbody tr th:only-of-type {\n",
       "        vertical-align: middle;\n",
       "    }\n",
       "\n",
       "    .dataframe tbody tr th {\n",
       "        vertical-align: top;\n",
       "    }\n",
       "\n",
       "    .dataframe thead th {\n",
       "        text-align: right;\n",
       "    }\n",
       "</style>\n",
       "<table border=\"1\" class=\"dataframe\">\n",
       "  <thead>\n",
       "    <tr style=\"text-align: right;\">\n",
       "      <th></th>\n",
       "      <th>id</th>\n",
       "      <th>book_title</th>\n",
       "      <th>author</th>\n",
       "      <th>isbn</th>\n",
       "    </tr>\n",
       "  </thead>\n",
       "  <tbody>\n",
       "    <tr>\n",
       "      <th>0</th>\n",
       "      <td>4979986</td>\n",
       "      <td>The Hunger Games</td>\n",
       "      <td>Suzanne Collins</td>\n",
       "      <td>0439023483</td>\n",
       "    </tr>\n",
       "    <tr>\n",
       "      <th>1</th>\n",
       "      <td>8384326</td>\n",
       "      <td>Twilight (2005)</td>\n",
       "      <td>Stephenie Meyer</td>\n",
       "      <td>0316015849</td>\n",
       "    </tr>\n",
       "    <tr>\n",
       "      <th>2</th>\n",
       "      <td>1541442</td>\n",
       "      <td>The Girl with the Dragon Tattoo (2005)</td>\n",
       "      <td>Stieg Larsson</td>\n",
       "      <td>0307454541</td>\n",
       "    </tr>\n",
       "    <tr>\n",
       "      <th>3</th>\n",
       "      <td>393681</td>\n",
       "      <td>The Book Thief (2007)</td>\n",
       "      <td>Markus Zusak</td>\n",
       "      <td>0375842209</td>\n",
       "    </tr>\n",
       "    <tr>\n",
       "      <th>4</th>\n",
       "      <td>8662515</td>\n",
       "      <td>Catching Fire</td>\n",
       "      <td>Suzanne Collins</td>\n",
       "      <td>0439023491</td>\n",
       "    </tr>\n",
       "  </tbody>\n",
       "</table>\n",
       "</div>"
      ],
      "text/plain": [
       "        id                              book_title           author  \\\n",
       "0  4979986                        The Hunger Games  Suzanne Collins   \n",
       "1  8384326                         Twilight (2005)  Stephenie Meyer   \n",
       "2  1541442  The Girl with the Dragon Tattoo (2005)    Stieg Larsson   \n",
       "3   393681                   The Book Thief (2007)     Markus Zusak   \n",
       "4  8662515                           Catching Fire  Suzanne Collins   \n",
       "\n",
       "         isbn  \n",
       "0  0439023483  \n",
       "1  0316015849  \n",
       "2  0307454541  \n",
       "3  0375842209  \n",
       "4  0439023491  "
      ]
     },
     "execution_count": 28,
     "metadata": {},
     "output_type": "execute_result"
    }
   ],
   "source": [
    "book_info = book_info[['id', 'book_title', 'author', 'isbn']]\n",
    "book_info.head(5)"
   ]
  },
  {
   "cell_type": "code",
   "execution_count": 29,
   "metadata": {},
   "outputs": [],
   "source": [
    "# filling in the information for the book missing its author\n",
    "book_info.author.iloc[4801] = 'Jeremy Harmer'\n",
    "book_info.isbn.iloc[4801] = 9780521656139"
   ]
  },
  {
   "cell_type": "code",
   "execution_count": 30,
   "metadata": {},
   "outputs": [],
   "source": [
    "# making a copy of the dataframe to look into missing ISBNs\n",
    "book_subset = book_info.copy()"
   ]
  },
  {
   "cell_type": "code",
   "execution_count": 31,
   "metadata": {},
   "outputs": [],
   "source": [
    "# converting the ISBN column to strings to avoid losing leading zeroes\n",
    "book_info['isbn'] = book_info.isbn.astype(str)"
   ]
  },
  {
   "cell_type": "code",
   "execution_count": 32,
   "metadata": {},
   "outputs": [],
   "source": [
    "# saving the dataframe as a csv\n",
    "book_info.to_csv(cleaner_book_info_path, index=False)"
   ]
  },
  {
   "cell_type": "code",
   "execution_count": 33,
   "metadata": {},
   "outputs": [
    {
     "data": {
      "text/plain": [
       "id             int64\n",
       "book_title    object\n",
       "author        object\n",
       "isbn          object\n",
       "dtype: object"
      ]
     },
     "execution_count": 33,
     "metadata": {},
     "output_type": "execute_result"
    }
   ],
   "source": [
    "book_info.dtypes"
   ]
  },
  {
   "cell_type": "code",
   "execution_count": 34,
   "metadata": {},
   "outputs": [
    {
     "data": {
      "text/plain": [
       "id               0\n",
       "book_title       0\n",
       "author           0\n",
       "isbn          1362\n",
       "dtype: int64"
      ]
     },
     "execution_count": 34,
     "metadata": {},
     "output_type": "execute_result"
    }
   ],
   "source": [
    "book_subset.isnull().sum()"
   ]
  },
  {
   "cell_type": "code",
   "execution_count": 35,
   "metadata": {},
   "outputs": [],
   "source": [
    "book_subset.isbn.fillna(0, inplace=True)"
   ]
  },
  {
   "cell_type": "code",
   "execution_count": 36,
   "metadata": {},
   "outputs": [
    {
     "data": {
      "text/html": [
       "<div>\n",
       "<style scoped>\n",
       "    .dataframe tbody tr th:only-of-type {\n",
       "        vertical-align: middle;\n",
       "    }\n",
       "\n",
       "    .dataframe tbody tr th {\n",
       "        vertical-align: top;\n",
       "    }\n",
       "\n",
       "    .dataframe thead th {\n",
       "        text-align: right;\n",
       "    }\n",
       "</style>\n",
       "<table border=\"1\" class=\"dataframe\">\n",
       "  <thead>\n",
       "    <tr style=\"text-align: right;\">\n",
       "      <th></th>\n",
       "      <th>id</th>\n",
       "      <th>book_title</th>\n",
       "      <th>author</th>\n",
       "      <th>isbn</th>\n",
       "    </tr>\n",
       "  </thead>\n",
       "  <tbody>\n",
       "    <tr>\n",
       "      <th>7</th>\n",
       "      <td>9279041</td>\n",
       "      <td>Mockingjay</td>\n",
       "      <td>Suzanne Collins</td>\n",
       "      <td>0</td>\n",
       "    </tr>\n",
       "    <tr>\n",
       "      <th>9</th>\n",
       "      <td>1222607</td>\n",
       "      <td>The Road (2006)</td>\n",
       "      <td>Cormac McCarthy</td>\n",
       "      <td>0</td>\n",
       "    </tr>\n",
       "    <tr>\n",
       "      <th>10</th>\n",
       "      <td>522063</td>\n",
       "      <td>Water for Elephants: A Novel (2006)</td>\n",
       "      <td>Sara Gruen</td>\n",
       "      <td>0</td>\n",
       "    </tr>\n",
       "    <tr>\n",
       "      <th>13</th>\n",
       "      <td>5403381</td>\n",
       "      <td>Harry Potter and the Sorcerer's Stone</td>\n",
       "      <td>J. K. Rowling</td>\n",
       "      <td>0</td>\n",
       "    </tr>\n",
       "    <tr>\n",
       "      <th>23</th>\n",
       "      <td>5197633</td>\n",
       "      <td>Life of Pi (2001)</td>\n",
       "      <td>Yann Martel</td>\n",
       "      <td>0</td>\n",
       "    </tr>\n",
       "  </tbody>\n",
       "</table>\n",
       "</div>"
      ],
      "text/plain": [
       "         id                             book_title           author isbn\n",
       "7   9279041                             Mockingjay  Suzanne Collins    0\n",
       "9   1222607                        The Road (2006)  Cormac McCarthy    0\n",
       "10   522063    Water for Elephants: A Novel (2006)       Sara Gruen    0\n",
       "13  5403381  Harry Potter and the Sorcerer's Stone    J. K. Rowling    0\n",
       "23  5197633                      Life of Pi (2001)      Yann Martel    0"
      ]
     },
     "execution_count": 36,
     "metadata": {},
     "output_type": "execute_result"
    }
   ],
   "source": [
    "# identifying the book entries missing ISBNs\n",
    "missing_isbns = book_subset[book_subset.isbn == 0]\n",
    "missing_isbns.head()"
   ]
  },
  {
   "cell_type": "code",
   "execution_count": 37,
   "metadata": {},
   "outputs": [],
   "source": [
    "book_info.to_csv(cleaner_book_info_path, index=False)"
   ]
  },
  {
   "cell_type": "markdown",
   "metadata": {},
   "source": [
    "<font color=navy>\n",
    "    Some books are missing ISBNs because this information was not included on their webpage on the LibraryThing website. At this point, I will continue with the ones that have ISBNs but I will also save a copy of the dataframe with books missing ISBNs. If I need more reviews to improve my model, it will be worth coming back to those and manually labelling them.\n",
    "    </font>"
   ]
  },
  {
   "cell_type": "code",
   "execution_count": 38,
   "metadata": {},
   "outputs": [],
   "source": [
    "missing_isbns.to_csv(missing_ibns_path, index=False)"
   ]
  }
 ],
 "metadata": {
  "kernelspec": {
   "display_name": "Python 3",
   "language": "python",
   "name": "python3"
  },
  "language_info": {
   "codemirror_mode": {
    "name": "ipython",
    "version": 3
   },
   "file_extension": ".py",
   "mimetype": "text/x-python",
   "name": "python",
   "nbconvert_exporter": "python",
   "pygments_lexer": "ipython3",
   "version": "3.6.8"
  }
 },
 "nbformat": 4,
 "nbformat_minor": 2
}
