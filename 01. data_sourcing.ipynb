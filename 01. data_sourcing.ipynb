{
 "cells": [
  {
   "cell_type": "markdown",
   "metadata": {},
   "source": [
    "# Data sourcing using web scraping and the Goodreads API"
   ]
  },
  {
   "cell_type": "markdown",
   "metadata": {},
   "source": [
    "The purpose of this notebook is to scrape the LibraryThing website and use the Goodreads API for additional book information. The LibraryThing dataset downloaded from Prof. McAuley's <a href=\"https://cseweb.ucsd.edu/~jmcauley/datasets.html#social_data\" target=\"_blank\">website</a> (see data_preprocessing notebook in extra_info directory) does not contain book titles, author names or ISBSNs. In this notebook, I collect additional information for a subset of the 5000 books with the most reviews. Having the ISBNs for these books will allow me to get book genre information from the Goodreads API."
   ]
  },
  {
   "cell_type": "markdown",
   "metadata": {},
   "source": [
    "### Imports"
   ]
  },
  {
   "cell_type": "code",
   "execution_count": 1,
   "metadata": {},
   "outputs": [],
   "source": [
    "import pandas as pd\n",
    "from modules.book_info_extractor import extract_book_details, clean_up_dataframe, generate_clean_isbn_and_id_lists\n",
    "from modules.scraper import write_htmls_to_csv\n",
    "from modules.goodreads_api_functions import acquire_goodreads_id, get_book_titles, get_book_shelves\n",
    "from modules.book_genre_extractor import extract_book_genre_info"
   ]
  },
  {
   "cell_type": "markdown",
   "metadata": {},
   "source": [
    "### Configs"
   ]
  },
  {
   "cell_type": "code",
   "execution_count": 2,
   "metadata": {},
   "outputs": [],
   "source": [
    "RAW_HTML_OUT_FOLDER_PATH = '/Users/ddefforey1/work/dsi-course/capstone_datasets'\n",
    "TOP_5K_MOST_REVIEWED_BOOKS_PATH = '/Users/ddefforey1/work/dsi-course/capstone_datasets/top_5K_books.csv'\n",
    "CLEAN_BOOK_GENRES_PATH = '/Users/ddefforey1/work/dsi-course/capstone_datasets/clean_book_genres.csv'"
   ]
  },
  {
   "cell_type": "markdown",
   "metadata": {},
   "source": [
    "### Web Requests and Writing Output to a CSV"
   ]
  },
  {
   "cell_type": "code",
   "execution_count": 3,
   "metadata": {},
   "outputs": [],
   "source": [
    "# importing the book ids for 5K books with the most reviews\n",
    "top_5K_books = pd.read_csv(TOP_5K_MOST_REVIEWED_BOOKS_PATH)"
   ]
  },
  {
   "cell_type": "code",
   "execution_count": 4,
   "metadata": {},
   "outputs": [],
   "source": [
    "# make a list of book IDs\n",
    "books_list = list(top_5K_books.book_id)"
   ]
  },
  {
   "cell_type": "code",
   "execution_count": 5,
   "metadata": {},
   "outputs": [
    {
     "data": {
      "application/vnd.jupyter.widget-view+json": {
       "model_id": "f6e104ce96f44d22b943ac7742e86bf3",
       "version_major": 2,
       "version_minor": 0
      },
      "text/plain": [
       "HBox(children=(IntProgress(value=0, max=5), HTML(value='')))"
      ]
     },
     "metadata": {},
     "output_type": "display_data"
    },
    {
     "name": "stdout",
     "output_type": "stream",
     "text": [
      "\n",
      "Pages scraped incorrectly: []\n"
     ]
    }
   ],
   "source": [
    "raw_htmls_path = write_htmls_to_csv(books_list=books_list, path=RAW_HTML_OUT_FOLDER_PATH)"
   ]
  },
  {
   "cell_type": "markdown",
   "metadata": {},
   "source": [
    "### Parsing Data with BeautifulSoup"
   ]
  },
  {
   "cell_type": "code",
   "execution_count": 6,
   "metadata": {},
   "outputs": [
    {
     "data": {
      "text/html": [
       "<div>\n",
       "<style scoped>\n",
       "    .dataframe tbody tr th:only-of-type {\n",
       "        vertical-align: middle;\n",
       "    }\n",
       "\n",
       "    .dataframe tbody tr th {\n",
       "        vertical-align: top;\n",
       "    }\n",
       "\n",
       "    .dataframe thead th {\n",
       "        text-align: right;\n",
       "    }\n",
       "</style>\n",
       "<table border=\"1\" class=\"dataframe\">\n",
       "  <thead>\n",
       "    <tr style=\"text-align: right;\">\n",
       "      <th></th>\n",
       "      <th>book_id</th>\n",
       "      <th>raw_html</th>\n",
       "    </tr>\n",
       "  </thead>\n",
       "  <tbody>\n",
       "    <tr>\n",
       "      <th>0</th>\n",
       "      <td>4979986</td>\n",
       "      <td>&lt;!DOCTYPE html&gt;&lt;html&gt;\\n&lt;head&gt;&lt;title&gt;The Hunger...</td>\n",
       "    </tr>\n",
       "    <tr>\n",
       "      <th>1</th>\n",
       "      <td>8384326</td>\n",
       "      <td>&lt;!DOCTYPE html&gt;&lt;html&gt;\\n&lt;head&gt;&lt;title&gt;Twilight b...</td>\n",
       "    </tr>\n",
       "    <tr>\n",
       "      <th>2</th>\n",
       "      <td>1541442</td>\n",
       "      <td>&lt;!DOCTYPE html&gt;&lt;html&gt;\\n&lt;head&gt;&lt;title&gt;The Girl w...</td>\n",
       "    </tr>\n",
       "    <tr>\n",
       "      <th>3</th>\n",
       "      <td>393681</td>\n",
       "      <td>&lt;!DOCTYPE html&gt;&lt;html&gt;\\n&lt;head&gt;&lt;title&gt;The Book T...</td>\n",
       "    </tr>\n",
       "    <tr>\n",
       "      <th>4</th>\n",
       "      <td>8662515</td>\n",
       "      <td>&lt;!DOCTYPE html&gt;&lt;html&gt;\\n&lt;head&gt;&lt;title&gt;Catching F...</td>\n",
       "    </tr>\n",
       "  </tbody>\n",
       "</table>\n",
       "</div>"
      ],
      "text/plain": [
       "   book_id                                           raw_html\n",
       "0  4979986  <!DOCTYPE html><html>\\n<head><title>The Hunger...\n",
       "1  8384326  <!DOCTYPE html><html>\\n<head><title>Twilight b...\n",
       "2  1541442  <!DOCTYPE html><html>\\n<head><title>The Girl w...\n",
       "3   393681  <!DOCTYPE html><html>\\n<head><title>The Book T...\n",
       "4  8662515  <!DOCTYPE html><html>\\n<head><title>Catching F..."
      ]
     },
     "execution_count": 6,
     "metadata": {},
     "output_type": "execute_result"
    }
   ],
   "source": [
    "# loading the csv containing the raw htmls\n",
    "raw_data = pd.read_csv(raw_htmls_path)\n",
    "raw_data.head()"
   ]
  },
  {
   "cell_type": "code",
   "execution_count": 7,
   "metadata": {},
   "outputs": [],
   "source": [
    "book_info = raw_data.raw_html.apply(extract_book_details).copy()"
   ]
  },
  {
   "cell_type": "code",
   "execution_count": 8,
   "metadata": {},
   "outputs": [
    {
     "data": {
      "text/html": [
       "<div>\n",
       "<style scoped>\n",
       "    .dataframe tbody tr th:only-of-type {\n",
       "        vertical-align: middle;\n",
       "    }\n",
       "\n",
       "    .dataframe tbody tr th {\n",
       "        vertical-align: top;\n",
       "    }\n",
       "\n",
       "    .dataframe thead th {\n",
       "        text-align: right;\n",
       "    }\n",
       "</style>\n",
       "<table border=\"1\" class=\"dataframe\">\n",
       "  <thead>\n",
       "    <tr style=\"text-align: right;\">\n",
       "      <th></th>\n",
       "      <th>id</th>\n",
       "      <th>book_title</th>\n",
       "      <th>author</th>\n",
       "      <th>isbn</th>\n",
       "    </tr>\n",
       "  </thead>\n",
       "  <tbody>\n",
       "    <tr>\n",
       "      <th>0</th>\n",
       "      <td>4979986</td>\n",
       "      <td>The Hunger Games</td>\n",
       "      <td>Suzanne Collins</td>\n",
       "      <td>0439023483</td>\n",
       "    </tr>\n",
       "    <tr>\n",
       "      <th>1</th>\n",
       "      <td>8384326</td>\n",
       "      <td>Twilight (2005)</td>\n",
       "      <td>Stephenie Meyer</td>\n",
       "      <td>0316015849</td>\n",
       "    </tr>\n",
       "    <tr>\n",
       "      <th>2</th>\n",
       "      <td>1541442</td>\n",
       "      <td>The Girl with the Dragon Tattoo (2005)</td>\n",
       "      <td>Stieg Larsson</td>\n",
       "      <td>0307454541</td>\n",
       "    </tr>\n",
       "    <tr>\n",
       "      <th>3</th>\n",
       "      <td>393681</td>\n",
       "      <td>The Book Thief (2007)</td>\n",
       "      <td>Markus Zusak</td>\n",
       "      <td>0375842209</td>\n",
       "    </tr>\n",
       "    <tr>\n",
       "      <th>4</th>\n",
       "      <td>8662515</td>\n",
       "      <td>Catching Fire</td>\n",
       "      <td>Suzanne Collins</td>\n",
       "      <td>0439023491</td>\n",
       "    </tr>\n",
       "  </tbody>\n",
       "</table>\n",
       "</div>"
      ],
      "text/plain": [
       "        id                              book_title           author  \\\n",
       "0  4979986                        The Hunger Games  Suzanne Collins   \n",
       "1  8384326                         Twilight (2005)  Stephenie Meyer   \n",
       "2  1541442  The Girl with the Dragon Tattoo (2005)    Stieg Larsson   \n",
       "3   393681                   The Book Thief (2007)     Markus Zusak   \n",
       "4  8662515                           Catching Fire  Suzanne Collins   \n",
       "\n",
       "         isbn  \n",
       "0  0439023483  \n",
       "1  0316015849  \n",
       "2  0307454541  \n",
       "3  0375842209  \n",
       "4  0439023491  "
      ]
     },
     "execution_count": 8,
     "metadata": {},
     "output_type": "execute_result"
    }
   ],
   "source": [
    "book_info = clean_up_dataframe(df=book_info.copy(), books_list=books_list)\n",
    "book_info.head()"
   ]
  },
  {
   "cell_type": "code",
   "execution_count": 9,
   "metadata": {},
   "outputs": [
    {
     "data": {
      "text/plain": [
       "(3638, 4)"
      ]
     },
     "execution_count": 9,
     "metadata": {},
     "output_type": "execute_result"
    }
   ],
   "source": [
    "book_info.shape"
   ]
  },
  {
   "cell_type": "markdown",
   "metadata": {},
   "source": [
    "Some books are missing ISBNs because this information was not included on their webpage on the LibraryThing website. At this point, I will continue with the ones that have ISBNs but it is worth noting that this project could be expanded by including books with missing ISBNs."
   ]
  },
  {
   "cell_type": "markdown",
   "metadata": {},
   "source": [
    "### Collect Goodreads Book Identifiers using Goodreads API"
   ]
  },
  {
   "cell_type": "markdown",
   "metadata": {},
   "source": [
    "Having Goodreads book IDs will allow us to collect book genre information, the last piece of information needed for the topic model."
   ]
  },
  {
   "cell_type": "code",
   "execution_count": 10,
   "metadata": {},
   "outputs": [],
   "source": [
    "isbns_list, id_list = generate_clean_isbn_and_id_lists(df=book_info.copy())"
   ]
  },
  {
   "cell_type": "code",
   "execution_count": 11,
   "metadata": {},
   "outputs": [
    {
     "data": {
      "application/vnd.jupyter.widget-view+json": {
       "model_id": "7d000b8c7ce9476382aa147e2faa82bc",
       "version_major": 2,
       "version_minor": 0
      },
      "text/plain": [
       "HBox(children=(IntProgress(value=0, max=5), HTML(value='')))"
      ]
     },
     "metadata": {},
     "output_type": "display_data"
    },
    {
     "name": "stdout",
     "output_type": "stream",
     "text": [
      "\n"
     ]
    }
   ],
   "source": [
    "goodreads_ids = acquire_goodreads_id(isbns_list)"
   ]
  },
  {
   "cell_type": "code",
   "execution_count": 12,
   "metadata": {},
   "outputs": [],
   "source": [
    "# making a dataframe with ISBNs and their corresponding Goodreads IDs\n",
    "goodreads_book_details = pd.DataFrame({\n",
    "    'id': id_list,\n",
    "    'isbn': isbns_list,\n",
    "    'goodreads_id': goodreads_ids\n",
    "})"
   ]
  },
  {
   "cell_type": "markdown",
   "metadata": {},
   "source": [
    "### Collect book genre information using Python interface for Goodreads"
   ]
  },
  {
   "cell_type": "code",
   "execution_count": 13,
   "metadata": {},
   "outputs": [
    {
     "data": {
      "application/vnd.jupyter.widget-view+json": {
       "model_id": "675f471dc00142cd8d632a6004dc6b74",
       "version_major": 2,
       "version_minor": 0
      },
      "text/plain": [
       "HBox(children=(IntProgress(value=0, max=5), HTML(value='')))"
      ]
     },
     "metadata": {},
     "output_type": "display_data"
    },
    {
     "name": "stdout",
     "output_type": "stream",
     "text": [
      "\n"
     ]
    }
   ],
   "source": [
    "# collect book titles from Goodreads to confirm that they match those from the LibraryThing dataset\n",
    "goodreads_book_details['goodreads_book_titles'] = get_book_titles(goodreads_book_details.goodreads_id)"
   ]
  },
  {
   "cell_type": "code",
   "execution_count": 14,
   "metadata": {},
   "outputs": [
    {
     "data": {
      "application/vnd.jupyter.widget-view+json": {
       "model_id": "6cf0a835da8042b3bf672b655feddc34",
       "version_major": 2,
       "version_minor": 0
      },
      "text/plain": [
       "HBox(children=(IntProgress(value=0, max=5), HTML(value='')))"
      ]
     },
     "metadata": {},
     "output_type": "display_data"
    },
    {
     "name": "stdout",
     "output_type": "stream",
     "text": [
      "\n"
     ]
    }
   ],
   "source": [
    "# collect goodreads shelves (from which genre info will be derived)\n",
    "goodreads_book_details['goodreads_shelves'] = get_book_shelves(goodreads_book_details.goodreads_id)"
   ]
  },
  {
   "cell_type": "code",
   "execution_count": 15,
   "metadata": {},
   "outputs": [
    {
     "data": {
      "text/html": [
       "<div>\n",
       "<style scoped>\n",
       "    .dataframe tbody tr th:only-of-type {\n",
       "        vertical-align: middle;\n",
       "    }\n",
       "\n",
       "    .dataframe tbody tr th {\n",
       "        vertical-align: top;\n",
       "    }\n",
       "\n",
       "    .dataframe thead th {\n",
       "        text-align: right;\n",
       "    }\n",
       "</style>\n",
       "<table border=\"1\" class=\"dataframe\">\n",
       "  <thead>\n",
       "    <tr style=\"text-align: right;\">\n",
       "      <th></th>\n",
       "      <th>id</th>\n",
       "      <th>isbn</th>\n",
       "      <th>goodreads_id</th>\n",
       "      <th>goodreads_book_titles</th>\n",
       "      <th>goodreads_shelves</th>\n",
       "    </tr>\n",
       "  </thead>\n",
       "  <tbody>\n",
       "    <tr>\n",
       "      <th>0</th>\n",
       "      <td>4979986</td>\n",
       "      <td>0439023483</td>\n",
       "      <td>2767052</td>\n",
       "      <td>The Hunger Games (The Hunger Games, #1)</td>\n",
       "      <td>[{'@name': 'to-read', '@count': '962270'}, {'@...</td>\n",
       "    </tr>\n",
       "    <tr>\n",
       "      <th>1</th>\n",
       "      <td>8384326</td>\n",
       "      <td>0316015849</td>\n",
       "      <td>41865</td>\n",
       "      <td>Twilight (Twilight, #1)</td>\n",
       "      <td>[{'@name': 'to-read', '@count': '715584'}, {'@...</td>\n",
       "    </tr>\n",
       "    <tr>\n",
       "      <th>2</th>\n",
       "      <td>1541442</td>\n",
       "      <td>0307454541</td>\n",
       "      <td>5291539</td>\n",
       "      <td>The Girl with the Dragon Tattoo (Millennium, #1)</td>\n",
       "      <td>[{'@name': 'to-read', '@count': '903225'}, {'@...</td>\n",
       "    </tr>\n",
       "    <tr>\n",
       "      <th>3</th>\n",
       "      <td>393681</td>\n",
       "      <td>0375842209</td>\n",
       "      <td>39395800</td>\n",
       "      <td>The Book Thief</td>\n",
       "      <td>[{'@name': 'to-read', '@count': '1180327'}, {'...</td>\n",
       "    </tr>\n",
       "    <tr>\n",
       "      <th>4</th>\n",
       "      <td>8662515</td>\n",
       "      <td>0439023491</td>\n",
       "      <td>6148028</td>\n",
       "      <td>Catching Fire (The Hunger Games, #2)</td>\n",
       "      <td>[{'@name': 'to-read', '@count': '250547'}, {'@...</td>\n",
       "    </tr>\n",
       "  </tbody>\n",
       "</table>\n",
       "</div>"
      ],
      "text/plain": [
       "        id        isbn  goodreads_id  \\\n",
       "0  4979986  0439023483       2767052   \n",
       "1  8384326  0316015849         41865   \n",
       "2  1541442  0307454541       5291539   \n",
       "3   393681  0375842209      39395800   \n",
       "4  8662515  0439023491       6148028   \n",
       "\n",
       "                              goodreads_book_titles  \\\n",
       "0           The Hunger Games (The Hunger Games, #1)   \n",
       "1                           Twilight (Twilight, #1)   \n",
       "2  The Girl with the Dragon Tattoo (Millennium, #1)   \n",
       "3                                    The Book Thief   \n",
       "4              Catching Fire (The Hunger Games, #2)   \n",
       "\n",
       "                                   goodreads_shelves  \n",
       "0  [{'@name': 'to-read', '@count': '962270'}, {'@...  \n",
       "1  [{'@name': 'to-read', '@count': '715584'}, {'@...  \n",
       "2  [{'@name': 'to-read', '@count': '903225'}, {'@...  \n",
       "3  [{'@name': 'to-read', '@count': '1180327'}, {'...  \n",
       "4  [{'@name': 'to-read', '@count': '250547'}, {'@...  "
      ]
     },
     "execution_count": 15,
     "metadata": {},
     "output_type": "execute_result"
    }
   ],
   "source": [
    "goodreads_book_details.head()"
   ]
  },
  {
   "cell_type": "markdown",
   "metadata": {},
   "source": [
    "### Extract book genre information"
   ]
  },
  {
   "cell_type": "code",
   "execution_count": 16,
   "metadata": {},
   "outputs": [],
   "source": [
    "# removing an academic textbook\n",
    "goodreads_book_details = goodreads_book_details.drop(index=566, axis=0)\n",
    "goodreads_book_details = goodreads_book_details.reset_index(drop=True)"
   ]
  },
  {
   "cell_type": "code",
   "execution_count": 17,
   "metadata": {},
   "outputs": [
    {
     "data": {
      "text/html": [
       "<div>\n",
       "<style scoped>\n",
       "    .dataframe tbody tr th:only-of-type {\n",
       "        vertical-align: middle;\n",
       "    }\n",
       "\n",
       "    .dataframe tbody tr th {\n",
       "        vertical-align: top;\n",
       "    }\n",
       "\n",
       "    .dataframe thead th {\n",
       "        text-align: right;\n",
       "    }\n",
       "</style>\n",
       "<table border=\"1\" class=\"dataframe\">\n",
       "  <thead>\n",
       "    <tr style=\"text-align: right;\">\n",
       "      <th></th>\n",
       "      <th>id</th>\n",
       "      <th>goodreads_id</th>\n",
       "      <th>isbn</th>\n",
       "      <th>goodreads_book_titles</th>\n",
       "      <th>goodreads_shelves</th>\n",
       "      <th>book_genres</th>\n",
       "    </tr>\n",
       "  </thead>\n",
       "  <tbody>\n",
       "    <tr>\n",
       "      <th>0</th>\n",
       "      <td>4979986</td>\n",
       "      <td>2767052</td>\n",
       "      <td>439023483</td>\n",
       "      <td>The Hunger Games (The Hunger Games, #1)</td>\n",
       "      <td>[{'@name': 'to-read', '@count': '870985'}, {'@...</td>\n",
       "      <td>[science-fiction]</td>\n",
       "    </tr>\n",
       "    <tr>\n",
       "      <th>1</th>\n",
       "      <td>8384326</td>\n",
       "      <td>41865</td>\n",
       "      <td>316015849</td>\n",
       "      <td>Twilight (Twilight, #1)</td>\n",
       "      <td>[{'@name': 'to-read', '@count': '599873'}, {'@...</td>\n",
       "      <td>[fantasy]</td>\n",
       "    </tr>\n",
       "    <tr>\n",
       "      <th>2</th>\n",
       "      <td>1541442</td>\n",
       "      <td>5291539</td>\n",
       "      <td>307454541</td>\n",
       "      <td>The Girl with the Dragon Tattoo (Millennium, #1)</td>\n",
       "      <td>[{'@name': 'to-read', '@count': '745270'}, {'@...</td>\n",
       "      <td>[mystery, fiction, thriller]</td>\n",
       "    </tr>\n",
       "    <tr>\n",
       "      <th>3</th>\n",
       "      <td>393681</td>\n",
       "      <td>39395800</td>\n",
       "      <td>375842209</td>\n",
       "      <td>The Book Thief</td>\n",
       "      <td>[{'@name': 'to-read', '@count': '1013995'}, {'...</td>\n",
       "      <td>[non-fiction, fiction]</td>\n",
       "    </tr>\n",
       "    <tr>\n",
       "      <th>4</th>\n",
       "      <td>8662515</td>\n",
       "      <td>6148028</td>\n",
       "      <td>439023491</td>\n",
       "      <td>Catching Fire (The Hunger Games, #2)</td>\n",
       "      <td>[{'@name': 'to-read', '@count': '221799'}, {'@...</td>\n",
       "      <td>[science-fiction]</td>\n",
       "    </tr>\n",
       "  </tbody>\n",
       "</table>\n",
       "</div>"
      ],
      "text/plain": [
       "        id  goodreads_id       isbn  \\\n",
       "0  4979986       2767052  439023483   \n",
       "1  8384326         41865  316015849   \n",
       "2  1541442       5291539  307454541   \n",
       "3   393681      39395800  375842209   \n",
       "4  8662515       6148028  439023491   \n",
       "\n",
       "                              goodreads_book_titles  \\\n",
       "0           The Hunger Games (The Hunger Games, #1)   \n",
       "1                           Twilight (Twilight, #1)   \n",
       "2  The Girl with the Dragon Tattoo (Millennium, #1)   \n",
       "3                                    The Book Thief   \n",
       "4              Catching Fire (The Hunger Games, #2)   \n",
       "\n",
       "                                   goodreads_shelves  \\\n",
       "0  [{'@name': 'to-read', '@count': '870985'}, {'@...   \n",
       "1  [{'@name': 'to-read', '@count': '599873'}, {'@...   \n",
       "2  [{'@name': 'to-read', '@count': '745270'}, {'@...   \n",
       "3  [{'@name': 'to-read', '@count': '1013995'}, {'...   \n",
       "4  [{'@name': 'to-read', '@count': '221799'}, {'@...   \n",
       "\n",
       "                    book_genres  \n",
       "0             [science-fiction]  \n",
       "1                     [fantasy]  \n",
       "2  [mystery, fiction, thriller]  \n",
       "3        [non-fiction, fiction]  \n",
       "4             [science-fiction]  "
      ]
     },
     "execution_count": 17,
     "metadata": {},
     "output_type": "execute_result"
    }
   ],
   "source": [
    "# extract book genres from goodreads shelves\n",
    "goodreads_book_details['book_genres'] = goodreads_book_details.goodreads_shelves.map(extract_book_genre_info)\n",
    "goodreads_book_details.head()"
   ]
  },
  {
   "cell_type": "code",
   "execution_count": 18,
   "metadata": {},
   "outputs": [],
   "source": [
    "# saving the dataframe for future use\n",
    "goodreads_book_details.to_csv(CLEAN_BOOK_GENRES_PATH, index=False)"
   ]
  }
 ],
 "metadata": {
  "kernelspec": {
   "display_name": "Python 3",
   "language": "python",
   "name": "python3"
  },
  "language_info": {
   "codemirror_mode": {
    "name": "ipython",
    "version": 3
   },
   "file_extension": ".py",
   "mimetype": "text/x-python",
   "name": "python",
   "nbconvert_exporter": "python",
   "pygments_lexer": "ipython3",
   "version": "3.6.8"
  }
 },
 "nbformat": 4,
 "nbformat_minor": 2
}
